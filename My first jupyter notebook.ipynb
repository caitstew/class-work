{
 "cells": [
  {
   "cell_type": "markdown",
   "metadata": {},
   "source": [
    "# This is my first jupyter notebook\n",
    "(yes that is how it is spelled and capitalized)"
   ]
  },
  {
   "cell_type": "markdown",
   "metadata": {},
   "source": [
    "# Heading 1\n",
    "## Heading 2\n",
    "### Heading 3\n",
    "#### Heading 4 \n",
    "##### Heading 5\n",
    "I didn't really need that comment!"
   ]
  },
  {
   "cell_type": "markdown",
   "metadata": {},
   "source": [
    "## This is a bulleted list\n",
    "* Item 1\n",
    "* Item 2\n",
    "    * Item 2a\n",
    "    * Item 2b\n",
    "        * Item 2ba\n",
    "    * Item 2c\n",
    "* Item 3\n"
   ]
  },
  {
   "cell_type": "markdown",
   "metadata": {},
   "source": [
    "### This is a numbered list\n",
    "1. Item 1\n",
    "2. Item 2\n",
    "7. Item 3\n",
    "15. Item 4\n",
    "    * Item 4a\n",
    "    * Item 4b\n",
    "    "
   ]
  },
  {
   "cell_type": "markdown",
   "metadata": {},
   "source": [
    "#### Let's look at bold and italica\n",
    "In this line of text *this item will be in italics* while this will not. BY the same token _this will be_ but this won't. In this line of text **this item will be bold** while this will not. By the same token __this will be but__ this won't. This would be **bold and *italics* text**."
   ]
  },
  {
   "cell_type": "markdown",
   "metadata": {},
   "source": [
    "# My Temperature Conversion Script\n",
    "In this exercise, I want to enter a temperature in degrees fahrenheit and have the code calculate degrees in Celsius."
   ]
  },
  {
   "cell_type": "code",
   "execution_count": 5,
   "metadata": {},
   "outputs": [
    {
     "name": "stdout",
     "output_type": "stream",
     "text": [
      "Enter the temperature in degrees fahrenheit? 84\n",
      "\n",
      "The temperature 84.0 degrees Fahrenheit is 28.89 degrees Celsius.\n"
     ]
    }
   ],
   "source": [
    "f = float(input(\"Enter the temperature in degrees fahrenheit? \"))\n",
    "c = (f-32)*5/9\n",
    "c\n",
    "print()\n",
    "print(\"The temperature \" + str(f) + \" degrees Fahrenheit is \" + str(round((c),2)) + \" degrees Celsius.\")"
   ]
  },
  {
   "cell_type": "markdown",
   "metadata": {},
   "source": [
    "# 4-2: Error Trapping"
   ]
  },
  {
   "cell_type": "code",
   "execution_count": 2,
   "metadata": {},
   "outputs": [
    {
     "name": "stdout",
     "output_type": "stream",
     "text": [
      "Enter the temperature in degrees fahrenheit? 45\n",
      "The temperature 45.0 degrees Fahrenheit is 7.22 degrees Celsius.\n"
     ]
    }
   ],
   "source": [
    "try: \n",
    "    f = float(input(\"Enter the temperature in degrees fahrenheit? \"))\n",
    "    c = (f-32)*5/9\n",
    "    print(\"The temperature \" + str(f) + \" degrees Fahrenheit is \" \n",
    "      + str(round((c),2)) + \" degrees Celsius.\")\n",
    "except:\n",
    "    print(\"Please enter a number!\")"
   ]
  },
  {
   "cell_type": "code",
   "execution_count": null,
   "metadata": {},
   "outputs": [],
   "source": []
  }
 ],
 "metadata": {
  "kernelspec": {
   "display_name": "Python 3",
   "language": "python",
   "name": "python3"
  },
  "language_info": {
   "codemirror_mode": {
    "name": "ipython",
    "version": 3
   },
   "file_extension": ".py",
   "mimetype": "text/x-python",
   "name": "python",
   "nbconvert_exporter": "python",
   "pygments_lexer": "ipython3",
   "version": "3.6.5"
  }
 },
 "nbformat": 4,
 "nbformat_minor": 2
}
