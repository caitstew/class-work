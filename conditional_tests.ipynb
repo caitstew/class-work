{
 "cells": [
  {
   "cell_type": "markdown",
   "metadata": {},
   "source": [
    "# 5-1 Conditional Tests"
   ]
  },
  {
   "cell_type": "code",
   "execution_count": 7,
   "metadata": {},
   "outputs": [
    {
     "name": "stdout",
     "output_type": "stream",
     "text": [
      "Is fruit == 'strawberry'? I predict so.\n",
      "True\n",
      "\n",
      "Is fruit == 'mango'? I predict not.\n",
      "False\n",
      "\n",
      "Is home == 'Ann Arbor'? I predict so.\n",
      "True\n",
      "\n",
      "Is home == 'Washington DC'? I predict not.\n",
      "False\n",
      "\n",
      "Is vegetable == 'celery'? I predict so.\n",
      "True\n",
      "\n",
      "Is vegetable == 'green bean'? I predict not.\n",
      "False\n",
      "\n",
      "Is animal == 'cat'? I predict so.\n",
      "True\n",
      "\n",
      "Is animal == 'dog'? I predict not.\n",
      "False\n",
      "\n",
      "Is plant == 'cactus'? I predict so.\n",
      "True\n",
      "\n",
      "Is plant == 'tulip'? I predict not.\n",
      "False\n"
     ]
    }
   ],
   "source": [
    "fruit = 'strawberry'\n",
    "print(\"Is fruit == 'strawberry'? I predict so.\")\n",
    "print(fruit == 'strawberry')\n",
    "\n",
    "print(\"\\nIs fruit == 'mango'? I predict not.\")\n",
    "print(fruit == 'mango')\n",
    "\n",
    "home = \"Ann Arbor\"\n",
    "print(\"\\nIs home == 'Ann Arbor'? I predict so.\")\n",
    "print(home == \"Ann Arbor\")\n",
    "\n",
    "print(\"\\nIs home == 'Washington DC'? I predict not.\")\n",
    "print(home == 'Washington DC')\n",
    "\n",
    "vegetable = 'celery'\n",
    "print(\"\\nIs vegetable == 'celery'? I predict so.\")\n",
    "print(vegetable == 'celery')\n",
    "\n",
    "print(\"\\nIs vegetable == 'green bean'? I predict not.\")\n",
    "print(vegetable == 'green bean')\n",
    "\n",
    "animal = 'cat'\n",
    "print(\"\\nIs animal == 'cat'? I predict so.\")\n",
    "print(animal == 'cat')\n",
    "\n",
    "print(\"\\nIs animal == 'dog'? I predict not.\")\n",
    "print(animal == 'dog')\n",
    "\n",
    "plant = 'cactus'\n",
    "print(\"\\nIs plant == 'cactus'? I predict so.\")\n",
    "print(plant == 'cactus')\n",
    "\n",
    "print(\"\\nIs plant == 'tulip'? I predict not.\")\n",
    "print(plant == 'tulip')"
   ]
  },
  {
   "cell_type": "code",
   "execution_count": null,
   "metadata": {},
   "outputs": [],
   "source": []
  }
 ],
 "metadata": {
  "kernelspec": {
   "display_name": "Python 3",
   "language": "python",
   "name": "python3"
  },
  "language_info": {
   "codemirror_mode": {
    "name": "ipython",
    "version": 3
   },
   "file_extension": ".py",
   "mimetype": "text/x-python",
   "name": "python",
   "nbconvert_exporter": "python",
   "pygments_lexer": "ipython3",
   "version": "3.6.5"
  }
 },
 "nbformat": 4,
 "nbformat_minor": 2
}
