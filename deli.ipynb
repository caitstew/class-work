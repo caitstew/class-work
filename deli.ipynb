{
 "cells": [
  {
   "cell_type": "markdown",
   "metadata": {},
   "source": [
    "# 7-8: Deli"
   ]
  },
  {
   "cell_type": "code",
   "execution_count": 3,
   "metadata": {},
   "outputs": [
    {
     "name": "stdout",
     "output_type": "stream",
     "text": [
      "I hope you enjoyed your turkey sandwich.\n",
      "I hope you enjoyed your pbj sandwich.\n",
      "I hope you enjoyed your reuben sandwich.\n",
      "I hope you enjoyed your blt sandwich.\n",
      "\n",
      "The following sandwiches have been eaten:\n",
      "turkey\n",
      "pbj\n",
      "reuben\n",
      "blt\n"
     ]
    }
   ],
   "source": [
    "sandwich_orders = [\"blt\", \"reuben\", \"pbj\", \"turkey\"]\n",
    "finished_sandwiches = []\n",
    "\n",
    "while sandwich_orders:\n",
    "    current_sandwich = sandwich_orders.pop()\n",
    "    \n",
    "    print(\"I hope you enjoyed your \" + current_sandwich + \" sandwich.\")\n",
    "    finished_sandwiches.append(current_sandwich)\n",
    "    \n",
    "print(\"\\nThe following sandwiches have been eaten:\")\n",
    "for sandwich in finished_sandwiches:\n",
    "    print(sandwich)"
   ]
  },
  {
   "cell_type": "markdown",
   "metadata": {},
   "source": [
    "# 7-9: No Pastrami"
   ]
  },
  {
   "cell_type": "code",
   "execution_count": 2,
   "metadata": {},
   "outputs": [
    {
     "name": "stdout",
     "output_type": "stream",
     "text": [
      "The deli has run out of pastrami.\n",
      "I hope you enjoyed your turkey sandwich.\n",
      "I hope you enjoyed your pbj sandwich.\n",
      "I hope you enjoyed your reuben sandwich.\n",
      "I hope you enjoyed your blt sandwich.\n",
      "\n",
      "The following sandwiches have been eaten:\n",
      "turkey\n",
      "pbj\n",
      "reuben\n",
      "blt\n"
     ]
    }
   ],
   "source": [
    "sandwich_orders = [\"blt\", \"pastrami\", \"reuben\", \"pastrami\", \"pbj\", \"turkey\", \"pastrami\"]\n",
    "finished_sandwiches = []\n",
    "\n",
    "print(\"The deli has run out of pastrami.\")\n",
    "while \"pastrami\" in sandwich_orders:\n",
    "    sandwich_orders.remove(\"pastrami\")\n",
    "    \n",
    "while sandwich_orders:\n",
    "    current_sandwich = sandwich_orders.pop()\n",
    "    \n",
    "    print(\"I hope you enjoyed your \" + current_sandwich + \" sandwich.\")\n",
    "    finished_sandwiches.append(current_sandwich)\n",
    "    \n",
    "print(\"\\nThe following sandwiches have been eaten:\")\n",
    "for sandwich in finished_sandwiches:\n",
    "    print(sandwich)"
   ]
  },
  {
   "cell_type": "code",
   "execution_count": null,
   "metadata": {},
   "outputs": [],
   "source": []
  }
 ],
 "metadata": {
  "kernelspec": {
   "display_name": "Python 3",
   "language": "python",
   "name": "python3"
  },
  "language_info": {
   "codemirror_mode": {
    "name": "ipython",
    "version": 3
   },
   "file_extension": ".py",
   "mimetype": "text/x-python",
   "name": "python",
   "nbconvert_exporter": "python",
   "pygments_lexer": "ipython3",
   "version": "3.6.5"
  }
 },
 "nbformat": 4,
 "nbformat_minor": 2
}
