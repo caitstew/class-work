{
 "cells": [
  {
   "cell_type": "code",
   "execution_count": null,
   "metadata": {},
   "outputs": [],
   "source": [
    "class Restuarant():\n",
    "    def __init__(self, name, cuisine_type, number_served):\n",
    "        self.name = name\n",
    "        self.cuisine_type = cuisine_type\n",
    "        self.number_served = 0\n",
    "    def describe_restuarant(self):\n",
    "        print(\"You want to have \" + self.cuisine_type.title() + \" food at the resturant, \" \n",
    "              + self.name.title() + \".\")\n",
    "    def open_restuarant(self):\n",
    "        print(\"The restaurant, \" + self.name.title() + \", is open!\")\n",
    "    def set_number_served(self, number_served):\n",
    "        self.number_served = number_served\n",
    "    def increment_number_served(self, customers):\n",
    "        self.number_served += customers"
   ]
  }
 ],
 "metadata": {
  "kernelspec": {
   "display_name": "Python 3",
   "language": "python",
   "name": "python3"
  },
  "language_info": {
   "codemirror_mode": {
    "name": "ipython",
    "version": 3
   },
   "file_extension": ".py",
   "mimetype": "text/x-python",
   "name": "python",
   "nbconvert_exporter": "python",
   "pygments_lexer": "ipython3",
   "version": "3.6.5"
  }
 },
 "nbformat": 4,
 "nbformat_minor": 2
}
