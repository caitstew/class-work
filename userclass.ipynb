{
 "cells": [
  {
   "cell_type": "code",
   "execution_count": null,
   "metadata": {},
   "outputs": [],
   "source": [
    "class User():\n",
    "    def __init__(self, first_name, last_name, age, location):\n",
    "        self.first_name = first_name\n",
    "        self.last_name = last_name\n",
    "        self.age = str(age)\n",
    "        self.location = location\n",
    "    def describe_user(self):\n",
    "        print(\"Full name: \" + self.first_name.title() + \" \" + self.last_name.title())\n",
    "        print(\"Age: \" + self.age)\n",
    "        print(\"Location: \" + self.location.title())\n",
    "    def greet_user(self):\n",
    "        print(\"Welcome, \" + self.first_name.title() + \" \" + self.last_name.title() + \"!\")\n",
    "        \n"
   ]
  }
 ],
 "metadata": {
  "kernelspec": {
   "display_name": "Python 3",
   "language": "python",
   "name": "python3"
  },
  "language_info": {
   "codemirror_mode": {
    "name": "ipython",
    "version": 3
   },
   "file_extension": ".py",
   "mimetype": "text/x-python",
   "name": "python",
   "nbconvert_exporter": "python",
   "pygments_lexer": "ipython3",
   "version": "3.6.5"
  }
 },
 "nbformat": 4,
 "nbformat_minor": 2
}
