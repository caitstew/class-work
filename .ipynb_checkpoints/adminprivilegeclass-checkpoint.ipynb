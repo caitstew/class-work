{
 "cells": [
  {
   "cell_type": "code",
   "execution_count": 2,
   "metadata": {},
   "outputs": [],
   "source": [
    "from userclass import User\n",
    "\n",
    "class Admin(User):\n",
    "    def __init__(self, first_name, last_name, age, location):\n",
    "        super().__init__(first_name, last_name, age, location)\n",
    "        self.privileges = Privileges()\n",
    "            \n",
    "class Privileges():\n",
    "    def __init__(self, privileges=[]):\n",
    "        self.privileges = privileges\n",
    "    def show_privileges(self):\n",
    "        if self.privileges: \n",
    "            print(\"Administrator privileges: \")\n",
    "            for privilege in self.privileges:\n",
    "                print(\" - \" + privilege)\n",
    "        else:\n",
    "            print(\"You are not an administrator!\")"
   ]
  },
  {
   "cell_type": "code",
   "execution_count": null,
   "metadata": {},
   "outputs": [],
   "source": []
  }
 ],
 "metadata": {
  "kernelspec": {
   "display_name": "Python 3",
   "language": "python",
   "name": "python3"
  },
  "language_info": {
   "codemirror_mode": {
    "name": "ipython",
    "version": 3
   },
   "file_extension": ".py",
   "mimetype": "text/x-python",
   "name": "python",
   "nbconvert_exporter": "python",
   "pygments_lexer": "ipython3",
   "version": "3.6.5"
  }
 },
 "nbformat": 4,
 "nbformat_minor": 2
}
