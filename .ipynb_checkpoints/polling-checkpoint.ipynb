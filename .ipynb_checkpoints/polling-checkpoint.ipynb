{
 "cells": [
  {
   "cell_type": "markdown",
   "metadata": {},
   "source": [
    "# 6-6: Polling"
   ]
  },
  {
   "cell_type": "code",
   "execution_count": 14,
   "metadata": {},
   "outputs": [
    {
     "name": "stdout",
     "output_type": "stream",
     "text": [
      "You should all take my poll if you haven't already!\n",
      "\n",
      "Tanner, I do not yet know your favorite programming language.\n",
      "\n",
      "Jon, I do not yet know your favorite programming language.\n",
      "\n",
      "Edward, I already have a recorded response from you.\n",
      "I know your favorite language is Python.\n",
      "\n",
      "Caitlin, I do not yet know your favorite programming language.\n",
      "\n",
      "Christy, I do not yet know your favorite programming language.\n",
      "\n",
      "Sarah, I already have a recorded response from you.\n",
      "I know your favorite language is Python.\n"
     ]
    }
   ],
   "source": [
    "favorite_languages = {\n",
    "    \"jen\" : \"python\", \n",
    "    \"sarah\" : \"c\", \n",
    "    \"edward\" : \"ruby\", \n",
    "    \"phil\" : \"python\",\n",
    "}\n",
    "\n",
    "new_poll = [\"tanner\", \"jon\", \"edward\", \"caitlin\", \"christy\", \"sarah\"]\n",
    "\n",
    "print(\"You should all take my poll if you haven't already!\")\n",
    "\n",
    "for name in new_poll:\n",
    "    if name in favorite_languages.keys():\n",
    "        print(\"\\n\" + name.title() + \", I already have a recorded response from you.\")\n",
    "        print(\"I know your favorite language is \" + language.title() + \".\")\n",
    "    else:\n",
    "        print(\"\\n\" + name.title() + \", I do not yet know your favorite programming language.\")\n"
   ]
  },
  {
   "cell_type": "code",
   "execution_count": null,
   "metadata": {},
   "outputs": [],
   "source": []
  }
 ],
 "metadata": {
  "kernelspec": {
   "display_name": "Python 3",
   "language": "python",
   "name": "python3"
  },
  "language_info": {
   "codemirror_mode": {
    "name": "ipython",
    "version": 3
   },
   "file_extension": ".py",
   "mimetype": "text/x-python",
   "name": "python",
   "nbconvert_exporter": "python",
   "pygments_lexer": "ipython3",
   "version": "3.6.5"
  }
 },
 "nbformat": 4,
 "nbformat_minor": 2
}
