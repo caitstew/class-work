{
 "cells": [
  {
   "cell_type": "markdown",
   "metadata": {},
   "source": [
    "# 6-1: Person"
   ]
  },
  {
   "cell_type": "code",
   "execution_count": 3,
   "metadata": {},
   "outputs": [
    {
     "name": "stdout",
     "output_type": "stream",
     "text": [
      "Tanner\n",
      "Quinn\n",
      "22\n",
      "Seattle\n"
     ]
    }
   ],
   "source": [
    "person = {\n",
    "    \"first_name\" : \"tanner\",\n",
    "    \"last_name\" : \"quinn\",\n",
    "    \"age\" : 22,\n",
    "    \"city\" : \"seattle\"}\n",
    "print(person[\"first_name\"].title())\n",
    "print(person[\"last_name\"].title())\n",
    "print(str(person[\"age\"]))\n",
    "print(person[\"city\"].title())"
   ]
  },
  {
   "cell_type": "markdown",
   "metadata": {},
   "source": [
    "# 6-7: People\n"
   ]
  },
  {
   "cell_type": "code",
   "execution_count": 35,
   "metadata": {},
   "outputs": [
    {
     "name": "stdout",
     "output_type": "stream",
     "text": [
      "\n",
      "I know the following about you:\n",
      "\n",
      " First name: Tanner\t Last name: Quinn\t Age: 22\t City: Seattle\n",
      "\n",
      "I know the following about you:\n",
      "\n",
      " First name: Elizabeth\t Last name: Stewart\t Age: 23\t City: Chicago\n",
      "\n",
      "I know the following about you:\n",
      "\n",
      " First name: Katherine\t Last name: Ashmore\t Age: 53\t City: Troy\n"
     ]
    }
   ],
   "source": [
    "person = {\n",
    "    \"first_name\" : \"tanner\",\n",
    "    \"last_name\" : \"quinn\",\n",
    "    \"age\" : 22,\n",
    "    \"city\" : \"seattle\"}\n",
    "person1 = {\n",
    "    \"first_name\" : \"elizabeth\",\n",
    "    \"last_name\" : \"stewart\",\n",
    "    \"age\" : 23,\n",
    "    \"city\" : \"chicago\"}\n",
    "person2 = {\n",
    "    \"first_name\" : \"katherine\",\n",
    "    \"last_name\" : \"ashmore\",\n",
    "    \"age\" : 53,\n",
    "    \"city\" : \"troy\"}\n",
    "\n",
    "peoples = [person, person1, person2]\n",
    "\n",
    "for people in peoples:\n",
    "    print(\"\\nI know the following about you:\")\n",
    "    print(\"\\n First name: \" + people[\"first_name\"].title() + \"\\t Last name: \" + people[\"last_name\"].title() \n",
    "          + \"\\t Age: \" + str(people[\"age\"]) + \"\\t City: \" + people[\"city\"].title())\n",
    "    \n",
    "    \n",
    "    \n"
   ]
  },
  {
   "cell_type": "code",
   "execution_count": null,
   "metadata": {},
   "outputs": [],
   "source": []
  },
  {
   "cell_type": "code",
   "execution_count": null,
   "metadata": {},
   "outputs": [],
   "source": []
  }
 ],
 "metadata": {
  "kernelspec": {
   "display_name": "Python 3",
   "language": "python",
   "name": "python3"
  },
  "language_info": {
   "codemirror_mode": {
    "name": "ipython",
    "version": 3
   },
   "file_extension": ".py",
   "mimetype": "text/x-python",
   "name": "python",
   "nbconvert_exporter": "python",
   "pygments_lexer": "ipython3",
   "version": "3.6.5"
  }
 },
 "nbformat": 4,
 "nbformat_minor": 2
}
