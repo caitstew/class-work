{
 "cells": [
  {
   "cell_type": "markdown",
   "metadata": {},
   "source": [
    "# Assignment Part B 5-2\n",
    "Create and troubleshoot a While statement that will accept any number of value entries between 0 and 100. Add each value to a list. Make sure that there is a way to communicate that you are finished adding numbers. How might you then print out those values one per line with a corresponding letter grade using the following scale: 90-100 A, 80-89 B, 70-79 C, 60-69 D, all else NC."
   ]
  },
  {
   "cell_type": "code",
   "execution_count": 5,
   "metadata": {},
   "outputs": [
    {
     "name": "stdout",
     "output_type": "stream",
     "text": [
      "Enter a number of between '0' and '100' or 'done' when you are finished: 98\n",
      "\n",
      "Here are your grades based on the values entered: \n",
      "\n",
      "98 : A\n",
      "Enter a number of between '0' and '100' or 'done' when you are finished: 80\n",
      "\n",
      "Here are your grades based on the values entered: \n",
      "\n",
      "98 : A\n",
      "80 : B\n",
      "Enter a number of between '0' and '100' or 'done' when you are finished: 76\n",
      "\n",
      "Here are your grades based on the values entered: \n",
      "\n",
      "98 : A\n",
      "80 : B\n",
      "76 : C\n",
      "Enter a number of between '0' and '100' or 'done' when you are finished: 34\n",
      "\n",
      "Here are your grades based on the values entered: \n",
      "\n",
      "98 : A\n",
      "80 : B\n",
      "76 : C\n",
      "34 : NC\n",
      "Enter a number of between '0' and '100' or 'done' when you are finished: 65\n",
      "\n",
      "Here are your grades based on the values entered: \n",
      "\n",
      "98 : A\n",
      "80 : B\n",
      "76 : C\n",
      "34 : NC\n",
      "65 : D\n",
      "Enter a number of between '0' and '100' or 'done' when you are finished: done\n"
     ]
    }
   ],
   "source": [
    "values = []\n",
    "prompt = \"Enter a number of between '0' and '100' or 'done' when you are finished: \"\n",
    "count = 0\n",
    "total = 0\n",
    "while True:\n",
    "    test = input(prompt)\n",
    "    values.append(test)\n",
    "    if test.lower() == \"done\" : \n",
    "        break\n",
    "    try:\n",
    "        num = float(test)\n",
    "        num >= 0\n",
    "        num <= 100\n",
    "    except:\n",
    "        print(\"Invalid input. Please enter a number between 0 and 100!\")\n",
    "        continue\n",
    "    count = count + 1\n",
    "    total = total + num\n",
    "    \n",
    "    print(\"\\nHere are your grades based on the values entered: \\n\")\n",
    "    for test in values:\n",
    "        if int(test) < 60:\n",
    "            print(str(test) + \" : NC\" )\n",
    "        elif int(test) >= 90:\n",
    "            print(str(test) + \" : A\")\n",
    "        elif int(test) >= 80:\n",
    "            print(str(test) + \" : B\")\n",
    "        elif int(test) >= 70:\n",
    "            print(str(test) + \" : C\")\n",
    "        elif int(test) >= 60:\n",
    "            print(str(test) + \" : D\")"
   ]
  },
  {
   "cell_type": "code",
   "execution_count": null,
   "metadata": {},
   "outputs": [],
   "source": [
    "\"\""
   ]
  }
 ],
 "metadata": {
  "kernelspec": {
   "display_name": "Python 3",
   "language": "python",
   "name": "python3"
  },
  "language_info": {
   "codemirror_mode": {
    "name": "ipython",
    "version": 3
   },
   "file_extension": ".py",
   "mimetype": "text/x-python",
   "name": "python",
   "nbconvert_exporter": "python",
   "pygments_lexer": "ipython3",
   "version": "3.6.5"
  }
 },
 "nbformat": 4,
 "nbformat_minor": 2
}
