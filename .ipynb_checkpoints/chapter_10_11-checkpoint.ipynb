{
 "cells": [
  {
   "cell_type": "markdown",
   "metadata": {},
   "source": [
    "# 10-1: Learning Python"
   ]
  },
  {
   "cell_type": "code",
   "execution_count": 30,
   "metadata": {},
   "outputs": [
    {
     "name": "stdout",
     "output_type": "stream",
     "text": [
      "In Python you can make sets and lists. \n",
      "In Python you can use for loops to work with those. \n",
      "In Python you can layer techniques that you learn into bigger, more complicated applications.\n",
      " \n",
      "In Python you can make sets and lists.\n",
      "In Python you can use for loops to work with those.\n",
      "In Python you can layer techniques that you learn into bigger, more complicated applications.\n",
      " \n",
      "In Python you can make sets and lists. In Python you can use for loops to work with those. In Python you can layer techniques that you learn into bigger, more complicated applications. \n"
     ]
    }
   ],
   "source": [
    "# Method One\n",
    "with open('learning_python.txt') as filename:\n",
    "    contents = filename.read()\n",
    "    print(contents.rstrip())\n",
    "print(\" \")\n",
    "# Method Two\n",
    "with open('learning_python.txt') as filename:\n",
    "    lines = filename.readlines()\n",
    "    \n",
    "for lines in lines:\n",
    "    print(lines.rstrip())\n",
    "print(\" \")   \n",
    "# Method Three\n",
    "with open('learning_python.txt') as filename:\n",
    "    lines = filename.readlines()\n",
    "    \n",
    "    lines_string = ''\n",
    "    for lines in lines:\n",
    "        lines_string += lines.rstrip() + \" \"\n",
    "\n",
    "print(lines_string)"
   ]
  },
  {
   "cell_type": "markdown",
   "metadata": {},
   "source": [
    "# 10-2: Learning C"
   ]
  },
  {
   "cell_type": "code",
   "execution_count": 28,
   "metadata": {},
   "outputs": [
    {
     "name": "stdout",
     "output_type": "stream",
     "text": [
      "In C you can make sets and lists. In C you can use for loops to work with those. In C you can layer techniques that you learn into bigger, more complicated applications. \n"
     ]
    }
   ],
   "source": [
    "with open('learning_python.txt') as filename:\n",
    "    lines = filename.readlines()\n",
    "    \n",
    "    lines_string = ''\n",
    "    for lines in lines:\n",
    "        lines_string += lines.rstrip() + \" \"\n",
    "\n",
    "print(lines_string.replace('Python', 'C'))"
   ]
  },
  {
   "cell_type": "markdown",
   "metadata": {},
   "source": [
    "# 10-3: Guest"
   ]
  },
  {
   "cell_type": "code",
   "execution_count": 34,
   "metadata": {},
   "outputs": [
    {
     "name": "stdout",
     "output_type": "stream",
     "text": [
      "I am making a guestlist!\n",
      "Please type your full name here: fred weasley\n",
      "Fred Weasley\n"
     ]
    }
   ],
   "source": [
    "print(\"I am making a guestlist!\")\n",
    "prompt = input(\"Please type your full name here: \")\n",
    "\n",
    "filename = 'guest.txt'\n",
    "with open('guest.txt', 'w') as text:\n",
    "    text.write(prompt.title())\n",
    "\n",
    "with open('guest.txt') as filename:\n",
    "    contents = filename.read()\n",
    "    print(contents.rstrip())"
   ]
  },
  {
   "cell_type": "markdown",
   "metadata": {},
   "source": [
    "# 10-4: Guest Book"
   ]
  },
  {
   "cell_type": "code",
   "execution_count": 6,
   "metadata": {},
   "outputs": [
    {
     "name": "stdout",
     "output_type": "stream",
     "text": [
      "I am making a guestbook!\n",
      "Please type your guests here: \n",
      "(enter 'done' when all invited guests are entered)tanner quinn\n",
      "I have added Tanner Quinn to the guestlist!\n",
      "Please type your guests here: \n",
      "(enter 'done' when all invited guests are entered)hannah butterworth\n",
      "I have added Hannah Butterworth to the guestlist!\n",
      "Please type your guests here: \n",
      "(enter 'done' when all invited guests are entered)jonathan butturini\n",
      "I have added Jonathan Butturini to the guestlist!\n",
      "Please type your guests here: \n",
      "(enter 'done' when all invited guests are entered)hannah gould\n",
      "I have added Hannah Gould to the guestlist!\n",
      "Please type your guests here: \n",
      "(enter 'done' when all invited guests are entered)done\n",
      "\n",
      "Tanner Quinn\n",
      "Hannah Butterworth\n",
      "Jonathan Butturini\n",
      "Hannah Gould\n"
     ]
    }
   ],
   "source": [
    "print(\"I am making a guestbook!\")\n",
    "\n",
    "\n",
    "while True:\n",
    "    prompt = input(\"Please type your guests here: \\n(enter 'done' when all invited guests are entered)\")\n",
    "    if prompt == \"done\":\n",
    "        break\n",
    "    else: \n",
    "        filename = 'guest_book.txt'\n",
    "        with open('guest_book.txt', 'a') as text:\n",
    "            text.write(\"\\n\" + prompt.title())\n",
    "        print(\"I have added \" + prompt.title() + \" to the guestlist!\")\n",
    "\n",
    "with open('guest_book.txt') as filename:\n",
    "    contents = filename.read()\n",
    "    print(contents.rstrip())"
   ]
  },
  {
   "cell_type": "markdown",
   "metadata": {},
   "source": [
    "# 10-5: Programming Poll"
   ]
  },
  {
   "cell_type": "code",
   "execution_count": 10,
   "metadata": {},
   "outputs": [
    {
     "name": "stdout",
     "output_type": "stream",
     "text": [
      "I am conducting a programming poll\n",
      "Please enter a reason you like programming: \n",
      "(enter 'done' when finished with poll)I might get a job.\n",
      "\n",
      "I have added your response, 'I Might Get A Job.', to our poll!\n",
      "Please enter a reason you like programming: \n",
      "(enter 'done' when finished with poll)It's like a puzzle. \n",
      "\n",
      "I have added your response, 'It'S Like A Puzzle. ', to our poll!\n",
      "Please enter a reason you like programming: \n",
      "(enter 'done' when finished with poll)done\n",
      "\n",
      "I Might Get A Job.\n",
      "It'S Like A Puzzle.\n"
     ]
    }
   ],
   "source": [
    "print(\"I am conducting a programming poll\")\n",
    "\n",
    "\n",
    "while True:\n",
    "    prompt = input(\"Please enter a reason you like programming: \\n(enter 'done' when finished with poll)\")\n",
    "    if prompt == \"done\":\n",
    "        break\n",
    "    else: \n",
    "        filename = 'program_poll.txt'\n",
    "        with open('program_poll.txt', 'a') as text:\n",
    "            text.write(\"\\n\" + prompt.title())\n",
    "        print(\"\\nI have added your response, '\" + prompt.title() + \"', to our poll!\")\n",
    "\n",
    "with open('program_poll.txt') as filename:\n",
    "    contents = filename.read()\n",
    "    print(contents.rstrip())"
   ]
  },
  {
   "cell_type": "markdown",
   "metadata": {},
   "source": [
    "# 10-6: Addition"
   ]
  },
  {
   "cell_type": "code",
   "execution_count": 18,
   "metadata": {},
   "outputs": [
    {
     "name": "stdout",
     "output_type": "stream",
     "text": [
      "Let's add some number!\n",
      "Enter 'done' to stop at any time.\n",
      "\n",
      "First number: 45\n",
      "Second number: twenty\n",
      "Please make sure both numbers entered were entered as digits.\n",
      "\n",
      "First number: 45\n",
      "Second number: 20\n",
      "The sum is: 65.0\n",
      "\n",
      "First number: done\n"
     ]
    }
   ],
   "source": [
    "print(\"Let's add some number!\")\n",
    "print(\"Enter 'done' to stop at any time.\")\n",
    "\n",
    "while True: \n",
    "    first_number = input(\"\\nFirst number: \")\n",
    "    if first_number == \"done\": \n",
    "        break\n",
    "    second_number = input(\"Second number: \")\n",
    "    if second_number == \"done\": \n",
    "        break\n",
    "    try:\n",
    "        answer = float(first_number) + float(second_number)\n",
    "    except:\n",
    "        print(\"Please make sure both numbers entered were entered as digits.\")\n",
    "    else:\n",
    "        print(\"The sum is: \" + str(answer))\n"
   ]
  },
  {
   "cell_type": "markdown",
   "metadata": {},
   "source": [
    "# 10-7: Addition Calculator"
   ]
  },
  {
   "cell_type": "markdown",
   "metadata": {},
   "source": [
    "I already did this assignment in 10-6"
   ]
  },
  {
   "cell_type": "markdown",
   "metadata": {},
   "source": [
    "# 10-8: Cats and Dogs"
   ]
  },
  {
   "cell_type": "code",
   "execution_count": 23,
   "metadata": {},
   "outputs": [
    {
     "name": "stdout",
     "output_type": "stream",
     "text": [
      "That file can not be found!\n",
      "\n",
      "Foster\n",
      "Cuddles\n",
      "Slushie\n"
     ]
    }
   ],
   "source": [
    "try:\n",
    "    with open('cats.txt') as filename:\n",
    "        contents = filename.read()\n",
    "except:\n",
    "    print(\"That file can not be found!\")\n",
    "else:\n",
    "    print(contents.rstrip())\n",
    "try: \n",
    "    with open('dogs.txt') as filename:\n",
    "        contents = filename.read()\n",
    "except:\n",
    "    print(\"That file can not be found!\")\n",
    "else:\n",
    "    print(\"\\n\" + contents.rstrip())"
   ]
  },
  {
   "cell_type": "markdown",
   "metadata": {},
   "source": [
    "# 10-9: Silent Cats and Dogs"
   ]
  },
  {
   "cell_type": "code",
   "execution_count": 24,
   "metadata": {},
   "outputs": [
    {
     "name": "stdout",
     "output_type": "stream",
     "text": [
      "\n",
      "Foster\n",
      "Cuddles\n",
      "Slushie\n"
     ]
    }
   ],
   "source": [
    "try:\n",
    "    with open('cats.txt') as filename:\n",
    "        contents = filename.read()\n",
    "except:\n",
    "    pass\n",
    "else:\n",
    "    print(contents.rstrip())\n",
    "try: \n",
    "    with open('dogs.txt') as filename:\n",
    "        contents = filename.read()\n",
    "except:\n",
    "    print(\"That file can not be found!\")\n",
    "else:\n",
    "    print(\"\\n\" + contents.rstrip())"
   ]
  },
  {
   "cell_type": "markdown",
   "metadata": {},
   "source": [
    "# 10-10: Common Words"
   ]
  },
  {
   "cell_type": "code",
   "execution_count": 36,
   "metadata": {},
   "outputs": [
    {
     "name": "stdout",
     "output_type": "stream",
     "text": [
      "17\n"
     ]
    }
   ],
   "source": [
    "filename = \"data/Gettysburg.txt\"\n",
    "try: \n",
    "    with open(filename) as text:\n",
    "        lines = text.readlines()\n",
    "        lines_string = ''\n",
    "        for lines in lines:\n",
    "            lines_string += lines.rstrip() + \" \"\n",
    "except:\n",
    "    print(\"That file can not be found!\")\n",
    "else:\n",
    "    print(lines.lower().count('the'))"
   ]
  },
  {
   "cell_type": "markdown",
   "metadata": {},
   "source": [
    "# 10-11: Favorite Number"
   ]
  },
  {
   "cell_type": "code",
   "execution_count": 37,
   "metadata": {},
   "outputs": [
    {
     "name": "stdout",
     "output_type": "stream",
     "text": [
      "Please enter your favorite number: 12\n",
      "I'll remember that your favorite number is 12!\n"
     ]
    }
   ],
   "source": [
    "import json\n",
    "favorite_number = input(\"Please enter your favorite number: \")\n",
    "\n",
    "filename = \"favorite_number.json\"\n",
    "with open(filename, \"w\") as number:\n",
    "    json.dump(favorite_number, number)\n",
    "    print(\"I'll remember that your favorite number is \" + favorite_number + \"!\")"
   ]
  },
  {
   "cell_type": "code",
   "execution_count": 38,
   "metadata": {},
   "outputs": [
    {
     "name": "stdout",
     "output_type": "stream",
     "text": [
      "I know your favorite number! It's 12!\n"
     ]
    }
   ],
   "source": [
    "import json\n",
    "filename = \"favorite_number.json\"\n",
    "with open(filename) as number:\n",
    "    favorite_number = json.load(number)\n",
    "    print(\"I know your favorite number! It's \" + favorite_number + \"!\")"
   ]
  },
  {
   "cell_type": "markdown",
   "metadata": {},
   "source": [
    "# 10-12: Favorite Number Remembered"
   ]
  },
  {
   "cell_type": "code",
   "execution_count": 3,
   "metadata": {},
   "outputs": [
    {
     "name": "stdout",
     "output_type": "stream",
     "text": [
      "Please enter your favorite number: 45\n",
      "I remember you! Welcome back!\n"
     ]
    }
   ],
   "source": [
    "import json\n",
    "\n",
    "def get_stored_favorite():\n",
    "    \"\"\"Get stored favorite number if available\"\"\"\n",
    "    filename = \"favorite_number.json\"\n",
    "    try:\n",
    "        with open(filename) as number:\n",
    "            favorite_number = json.load(number)\n",
    "    except FileNotFoundError:\n",
    "        return None\n",
    "    else: \n",
    "        return favorite_number\n",
    "\n",
    "def get_favorite_number():\n",
    "    \"\"\"Get favorite number if don't have it\"\"\"\n",
    "    favorite_number = get_stored_favorite()\n",
    "    if favorite_number == prompt:\n",
    "        print(\"I remember you! Welcome back!\")\n",
    "    else: \n",
    "        favorite_number = prompt\n",
    "        filename = \"favorite_number.json\"\n",
    "        with open(filename, \"w\") as number:\n",
    "            json.dump(favorite_number, number)\n",
    "            print(\"I'll remember that your favorite number is \" + favorite_number + \"!\")\n",
    "    \n",
    "prompt = input(\"Please enter your favorite number: \")\n",
    "\n",
    "get_favorite_number()\n"
   ]
  },
  {
   "cell_type": "markdown",
   "metadata": {},
   "source": [
    "# 10-13: Verify User"
   ]
  },
  {
   "cell_type": "code",
   "execution_count": 1,
   "metadata": {},
   "outputs": [
    {
     "name": "stdout",
     "output_type": "stream",
     "text": [
      "Are you cait?\n",
      "(If so, enter 'yes', otherwise enter 'no')no\n",
      "What is your name? bobby\n",
      "We'll remember you when you come back, bobby!\n"
     ]
    }
   ],
   "source": [
    "import json\n",
    "\n",
    "def get_stored_username():\n",
    "    \"\"\"Get stored username if available.\"\"\"\n",
    "    filename = 'username.json'\n",
    "    try:\n",
    "        with open(filename) as f_obj:\n",
    "            username = json.load(f_obj)\n",
    "    except FileNotFoundError:\n",
    "        return None\n",
    "    else:\n",
    "        return username\n",
    "\n",
    "\n",
    "def get_new_username():\n",
    "    \"\"\"Prompt for a new username.\"\"\"\n",
    "    username = input(\"What is your name? \")\n",
    "    filename = 'username.json'\n",
    "    with open(filename, 'w') as f_obj:\n",
    "        json.dump(username, f_obj)\n",
    "    return username\n",
    "\n",
    "\n",
    "def greet_user():\n",
    "    \"\"\"Greet the user by name.\"\"\"\n",
    "    username = get_stored_username()\n",
    "    if username:\n",
    "        print(\"Are you \" + username + \"?\") \n",
    "        prompt = input(\"(If so, enter 'yes', otherwise enter 'no')\")\n",
    "        if prompt == 'yes':\n",
    "            print(\"Welcome back, \" + username + \"!\")\n",
    "        else: \n",
    "            username = get_new_username()\n",
    "            print(\"We'll remember you when you come back, \" + username + \"!\")      \n",
    "\n",
    "greet_user()"
   ]
  },
  {
   "cell_type": "markdown",
   "metadata": {},
   "source": [
    "# 11-1: City, Country\n",
    "Ran this under testcase1.py in BBEdit"
   ]
  },
  {
   "cell_type": "code",
   "execution_count": 17,
   "metadata": {},
   "outputs": [
    {
     "name": "stderr",
     "output_type": "stream",
     "text": [
      "E\n",
      "======================================================================\n",
      "ERROR: /Users/caitlinstewart/Library/Jupyter/runtime/kernel-1064151d-4ef5-4f7b-9b88-e983a9960e27 (unittest.loader._FailedTest)\n",
      "----------------------------------------------------------------------\n",
      "AttributeError: module '__main__' has no attribute '/Users/caitlinstewart/Library/Jupyter/runtime/kernel-1064151d-4ef5-4f7b-9b88-e983a9960e27'\n",
      "\n",
      "----------------------------------------------------------------------\n",
      "Ran 1 test in 0.002s\n",
      "\n",
      "FAILED (errors=1)\n"
     ]
    },
    {
     "ename": "SystemExit",
     "evalue": "True",
     "output_type": "error",
     "traceback": [
      "An exception has occurred, use %tb to see the full traceback.\n",
      "\u001b[0;31mSystemExit\u001b[0m\u001b[0;31m:\u001b[0m True\n"
     ]
    },
    {
     "name": "stderr",
     "output_type": "stream",
     "text": [
      "/Users/caitlinstewart/anaconda3/lib/python3.6/site-packages/IPython/core/interactiveshell.py:2971: UserWarning: To exit: use 'exit', 'quit', or Ctrl-D.\n",
      "  warn(\"To exit: use 'exit', 'quit', or Ctrl-D.\", stacklevel=1)\n"
     ]
    }
   ],
   "source": [
    "import unittest\n",
    "from city_functions import city_function\n",
    "class CityCountryTest(unittest.TestCase):\n",
    "    \"\"\"Tests for city_functions.py\"\"\"\n",
    "    def test_city_function(self):\n",
    "        \"\"\"Do names like Santiago work?\"\"\"\n",
    "        info = city_function(\"santiago\", \"chile\")\n",
    "        self.assertEqual(info, \"Santiago, Chile\")\n",
    "unittest.main()"
   ]
  },
  {
   "cell_type": "markdown",
   "metadata": {},
   "source": [
    "# 11-2: Population\n",
    "ran this under testcase2.py in BBEdit"
   ]
  },
  {
   "cell_type": "code",
   "execution_count": 18,
   "metadata": {
    "scrolled": true
   },
   "outputs": [
    {
     "name": "stderr",
     "output_type": "stream",
     "text": [
      "E\n",
      "======================================================================\n",
      "ERROR: /Users/caitlinstewart/Library/Jupyter/runtime/kernel-1064151d-4ef5-4f7b-9b88-e983a9960e27 (unittest.loader._FailedTest)\n",
      "----------------------------------------------------------------------\n",
      "AttributeError: module '__main__' has no attribute '/Users/caitlinstewart/Library/Jupyter/runtime/kernel-1064151d-4ef5-4f7b-9b88-e983a9960e27'\n",
      "\n",
      "----------------------------------------------------------------------\n",
      "Ran 1 test in 0.002s\n",
      "\n",
      "FAILED (errors=1)\n"
     ]
    },
    {
     "ename": "SystemExit",
     "evalue": "True",
     "output_type": "error",
     "traceback": [
      "An exception has occurred, use %tb to see the full traceback.\n",
      "\u001b[0;31mSystemExit\u001b[0m\u001b[0;31m:\u001b[0m True\n"
     ]
    },
    {
     "name": "stderr",
     "output_type": "stream",
     "text": [
      "/Users/caitlinstewart/anaconda3/lib/python3.6/site-packages/IPython/core/interactiveshell.py:2971: UserWarning: To exit: use 'exit', 'quit', or Ctrl-D.\n",
      "  warn(\"To exit: use 'exit', 'quit', or Ctrl-D.\", stacklevel=1)\n"
     ]
    }
   ],
   "source": [
    "import unittest\n",
    "from city_functions import city_function\n",
    "class CityCountryTest(unittest.TestCase):\n",
    "    \"\"\"Tests for city_functions.py\"\"\"\n",
    "    def test_city_function(self):\n",
    "        \"\"\"Do names like Santiago work?\"\"\"\n",
    "        info = city_function(\"santiago\", \"chile\", 5677009)\n",
    "        self.assertEqual(info, \"Santiago, Chile - population: 567700\")\n",
    "unittest.main()"
   ]
  },
  {
   "cell_type": "code",
   "execution_count": null,
   "metadata": {},
   "outputs": [],
   "source": []
  }
 ],
 "metadata": {
  "kernelspec": {
   "display_name": "Python 3",
   "language": "python",
   "name": "python3"
  },
  "language_info": {
   "codemirror_mode": {
    "name": "ipython",
    "version": 3
   },
   "file_extension": ".py",
   "mimetype": "text/x-python",
   "name": "python",
   "nbconvert_exporter": "python",
   "pygments_lexer": "ipython3",
   "version": "3.6.5"
  }
 },
 "nbformat": 4,
 "nbformat_minor": 2
}
