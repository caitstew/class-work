{
 "cells": [
  {
   "cell_type": "markdown",
   "metadata": {},
   "source": [
    "# 6-2: Favorite Numbers"
   ]
  },
  {
   "cell_type": "code",
   "execution_count": 3,
   "metadata": {},
   "outputs": [
    {
     "name": "stdout",
     "output_type": "stream",
     "text": [
      "Beth's favorite number is 34!\n",
      "Karl's favorite number is 78!\n",
      "Roman's favorite number is 2!\n",
      "Grace's favorite number is 7!\n",
      "Claire's favorite number is 16!\n"
     ]
    }
   ],
   "source": [
    "favorite_numbers = {\n",
    "    \"Beth\" : 34, \n",
    "    \"Karl\" : 78,\n",
    "    \"Roman\" : 2,\n",
    "    \"Grace\" : 7, \n",
    "    \"Claire\" : 16,\n",
    "}\n",
    "print(\"Beth's favorite number is \" + str(favorite_numbers[\"Beth\"]) + \"!\")\n",
    "print(\"Karl's favorite number is \" + str(favorite_numbers[\"Karl\"]) + \"!\")\n",
    "print(\"Roman's favorite number is \" + str(favorite_numbers[\"Roman\"]) + \"!\")\n",
    "print(\"Grace's favorite number is \" + str(favorite_numbers[\"Grace\"]) + \"!\")\n",
    "print(\"Claire's favorite number is \" + str(favorite_numbers[\"Claire\"]) + \"!\")"
   ]
  },
  {
   "cell_type": "markdown",
   "metadata": {},
   "source": [
    "# 6-10: Favorite Numbers"
   ]
  },
  {
   "cell_type": "code",
   "execution_count": 17,
   "metadata": {},
   "outputs": [
    {
     "name": "stdout",
     "output_type": "stream",
     "text": [
      "Beth's favorite numbers are: \n",
      "34\n",
      "42\n",
      "65\n",
      "1\n",
      "Karl's favorite numbers are: \n",
      "78\n",
      "84\n",
      "2\n",
      "0\n",
      "Roman's favorite numbers are: \n",
      "2\n",
      "3\n",
      "4\n",
      "Grace's favorite numbers are: \n",
      "7\n",
      "5\n",
      "Claire's favorite numbers are: \n",
      "16\n",
      "100\n",
      "45\n"
     ]
    }
   ],
   "source": [
    "favorite_numbers = {\n",
    "    \"Beth\" : [34, 42, 65, 1],\n",
    "    \"Karl\" : [78, 84, 2, 0],\n",
    "    \"Roman\" : [2, 3, 4],\n",
    "    \"Grace\" : [7, 5], \n",
    "    \"Claire\" : [16, 100, 45],\n",
    "}\n",
    "for name, numbers in favorite_numbers.items():\n",
    "    print(name + \"'s favorite numbers are: \")\n",
    "    for number in numbers:\n",
    "        print(str(number))\n"
   ]
  },
  {
   "cell_type": "code",
   "execution_count": null,
   "metadata": {},
   "outputs": [],
   "source": []
  }
 ],
 "metadata": {
  "kernelspec": {
   "display_name": "Python 3",
   "language": "python",
   "name": "python3"
  },
  "language_info": {
   "codemirror_mode": {
    "name": "ipython",
    "version": 3
   },
   "file_extension": ".py",
   "mimetype": "text/x-python",
   "name": "python",
   "nbconvert_exporter": "python",
   "pygments_lexer": "ipython3",
   "version": "3.6.5"
  }
 },
 "nbformat": 4,
 "nbformat_minor": 2
}
