{
 "cells": [
  {
   "cell_type": "markdown",
   "metadata": {},
   "source": [
    "# 5-7: Favorite Fruit"
   ]
  },
  {
   "cell_type": "code",
   "execution_count": 2,
   "metadata": {},
   "outputs": [
    {
     "name": "stdout",
     "output_type": "stream",
     "text": [
      "\n",
      "You really love the fruit: raspberry\n",
      "\n",
      "You really love the fruit: pear\n",
      "\n",
      "You really love the fruit: mango\n",
      "\n",
      "Pineapples are not your favorite.\n",
      "\n",
      "Bananas are not your favorite.\n"
     ]
    }
   ],
   "source": [
    "favorite_fruits = [\"raspberry\", \"mango\", \"pear\"]\n",
    "fruit = \"raspberry\"\n",
    "if fruit in favorite_fruits:\n",
    "    print(\"\\nYou really love the fruit: \" + fruit)\n",
    "fruit = \"pear\"\n",
    "if fruit in favorite_fruits:\n",
    "    print(\"\\nYou really love the fruit: \" + fruit)\n",
    "fruit = \"mango\"\n",
    "if fruit in favorite_fruits:\n",
    "    print(\"\\nYou really love the fruit: \" + fruit)\n",
    "fruit = \"pineapple\"\n",
    "if fruit not in favorite_fruits:\n",
    "    print(\"\\n\" + fruit.title() + \"s are not your favorite.\")\n",
    "fruit = \"banana\"\n",
    "if fruit not in favorite_fruits:\n",
    "    print(\"\\n\" + fruit.title() + \"s are not your favorite.\")"
   ]
  },
  {
   "cell_type": "code",
   "execution_count": null,
   "metadata": {},
   "outputs": [],
   "source": []
  }
 ],
 "metadata": {
  "kernelspec": {
   "display_name": "Python 3",
   "language": "python",
   "name": "python3"
  },
  "language_info": {
   "codemirror_mode": {
    "name": "ipython",
    "version": 3
   },
   "file_extension": ".py",
   "mimetype": "text/x-python",
   "name": "python",
   "nbconvert_exporter": "python",
   "pygments_lexer": "ipython3",
   "version": "3.6.5"
  }
 },
 "nbformat": 4,
 "nbformat_minor": 2
}
