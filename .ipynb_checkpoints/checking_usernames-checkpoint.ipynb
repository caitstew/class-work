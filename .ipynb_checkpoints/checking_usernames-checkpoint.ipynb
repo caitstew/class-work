{
 "cells": [
  {
   "cell_type": "markdown",
   "metadata": {},
   "source": [
    "# 5-10: Checking Usernames"
   ]
  },
  {
   "cell_type": "code",
   "execution_count": 6,
   "metadata": {},
   "outputs": [
    {
     "name": "stdout",
     "output_type": "stream",
     "text": [
      "The username henry, is available!\n",
      "The username freeda, is available!\n",
      "The username stuart, is already taken. Please enter a new username.\n",
      "The username JOE, is already taken. Please enter a new username.\n",
      "The username lin, is available!\n"
     ]
    }
   ],
   "source": [
    "current_users = [\"bob\", \"joe\", \"harry\", \"maggie\", \"stuart\"]\n",
    "new_users = [\"henry\", \"freeda\", \"stuart\", \"JOE\", \"lin\"]\n",
    "for new_user in new_users: \n",
    "    if new_user.lower() in current_users:\n",
    "        print(\"The username \" + new_user + \", is already taken. Please enter a new username.\")\n",
    "    else:\n",
    "        print(\"The username \" + new_user + \", is available!\")"
   ]
  },
  {
   "cell_type": "code",
   "execution_count": null,
   "metadata": {},
   "outputs": [],
   "source": []
  },
  {
   "cell_type": "code",
   "execution_count": null,
   "metadata": {},
   "outputs": [],
   "source": []
  }
 ],
 "metadata": {
  "kernelspec": {
   "display_name": "Python 3",
   "language": "python",
   "name": "python3"
  },
  "language_info": {
   "codemirror_mode": {
    "name": "ipython",
    "version": 3
   },
   "file_extension": ".py",
   "mimetype": "text/x-python",
   "name": "python",
   "nbconvert_exporter": "python",
   "pygments_lexer": "ipython3",
   "version": "3.6.5"
  }
 },
 "nbformat": 4,
 "nbformat_minor": 2
}
