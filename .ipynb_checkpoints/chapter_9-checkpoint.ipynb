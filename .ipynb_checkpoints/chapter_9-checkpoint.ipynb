{
 "cells": [
  {
   "cell_type": "markdown",
   "metadata": {},
   "source": [
    "# 9-1: Restaurant"
   ]
  },
  {
   "cell_type": "code",
   "execution_count": 20,
   "metadata": {},
   "outputs": [
    {
     "name": "stdout",
     "output_type": "stream",
     "text": [
      "Maize\n",
      "Mexican\n",
      "You want to have Mexican food at the resturant, Maize.\n",
      "The restaurant, Maize, is open!\n"
     ]
    }
   ],
   "source": [
    "class Restuarant():\n",
    "    def __init__(self, name, cuisine_type):\n",
    "        self.name = name\n",
    "        self.cuisine_type = cuisine_type\n",
    "    def describe_restuarant(self):\n",
    "        print(\"You want to have \" + self.cuisine_type.title() + \" food at the resturant, \" \n",
    "              + self.name.title() + \".\")\n",
    "    def open_restuarant(self):\n",
    "        print(\"The restaurant, \" + self.name.title() + \", is open!\")\n",
    "\n",
    "\n",
    "restuarant = Restuarant(\"maize\", \"mexican\")\n",
    "print(restuarant.name.title())\n",
    "print(restuarant.cuisine_type.title())\n",
    "\n",
    "restuarant.describe_restuarant()\n",
    "restuarant.open_restuarant()\n",
    "\n",
    "\n",
    "        "
   ]
  },
  {
   "cell_type": "markdown",
   "metadata": {},
   "source": [
    "# 9-2: Three Restuarants"
   ]
  },
  {
   "cell_type": "code",
   "execution_count": 22,
   "metadata": {},
   "outputs": [
    {
     "name": "stdout",
     "output_type": "stream",
     "text": [
      "You want to have Mexican food at the resturant, Maize.\n",
      "You want to have American food at the resturant, Max And Erma.\n",
      "You want to have Italian food at the resturant, Savas.\n"
     ]
    }
   ],
   "source": [
    "class Restuarant():\n",
    "    def __init__(self, name, cuisine_type):\n",
    "        self.name = name\n",
    "        self.cuisine_type = cuisine_type\n",
    "    def describe_restuarant(self):\n",
    "        print(\"You want to have \" + self.cuisine_type.title() + \" food at the resturant, \" \n",
    "              + self.name.title() + \".\")\n",
    "    def open_restuarant(self):\n",
    "        print(\"The restaurant, \" + self.name.title() + \", is open!\")\n",
    "\n",
    "\n",
    "restuarant = Restuarant(\"maize\", \"mexican\")\n",
    "restuarant1 = Restuarant(\"max and erma\", \"american\")\n",
    "restuarant2 = Restuarant(\"savas\", \"italian\")\n",
    "restuarant.describe_restuarant()\n",
    "restuarant1.describe_restuarant()\n",
    "restuarant2.describe_restuarant()\n",
    "\n"
   ]
  },
  {
   "cell_type": "markdown",
   "metadata": {},
   "source": [
    "# 9-3: Users"
   ]
  },
  {
   "cell_type": "code",
   "execution_count": 35,
   "metadata": {},
   "outputs": [
    {
     "name": "stdout",
     "output_type": "stream",
     "text": [
      "Full name: Caitlin Stewart\n",
      "Age: 22\n",
      "Location: Seattle\n",
      "Welcome, Caitlin Stewart!\n"
     ]
    }
   ],
   "source": [
    "class User():\n",
    "    def __init__(self, first_name, last_name, age, location):\n",
    "        self.first_name = first_name\n",
    "        self.last_name = last_name\n",
    "        self.age = str(age)\n",
    "        self.location = location\n",
    "    def describe_user(self):\n",
    "        print(\"Full name: \" + self.first_name.title() + \" \" + self.last_name.title())\n",
    "        print(\"Age: \" + self.age)\n",
    "        print(\"Location: \" + self.location.title())\n",
    "    def greet_user(self):\n",
    "        print(\"Welcome, \" + self.first_name.title() + \" \" + self.last_name.title() + \"!\")\n",
    "\n",
    "caitlin = User(\"caitlin\", \"stewart\", 22, \"seattle\")\n",
    "caitlin.describe_user()\n",
    "caitlin.greet_user()"
   ]
  },
  {
   "cell_type": "markdown",
   "metadata": {},
   "source": [
    "# 9-4: Number Served"
   ]
  },
  {
   "cell_type": "code",
   "execution_count": 53,
   "metadata": {},
   "outputs": [
    {
     "name": "stdout",
     "output_type": "stream",
     "text": [
      "Maize\n",
      "Mexican\n",
      "46\n",
      "567\n",
      "667\n"
     ]
    }
   ],
   "source": [
    "class Restuarant():\n",
    "    def __init__(self, name, cuisine_type, number_served):\n",
    "        self.name = name\n",
    "        self.cuisine_type = cuisine_type\n",
    "        self.number_served = 0\n",
    "    def describe_restuarant(self):\n",
    "        print(\"You want to have \" + self.cuisine_type.title() + \" food at the resturant, \" \n",
    "              + self.name.title() + \".\")\n",
    "    def open_restuarant(self):\n",
    "        print(\"The restaurant, \" + self.name.title() + \", is open!\")\n",
    "    def set_number_served(self, number_served):\n",
    "        self.number_served = number_served\n",
    "    def increment_number_served(self, customers):\n",
    "        self.number_served += customers\n",
    "        \n",
    "        \n",
    "\n",
    "\n",
    "restuarant = Restuarant(\"maize\", \"mexican\", 0)\n",
    "print(restuarant.name.title())\n",
    "print(restuarant.cuisine_type.title())\n",
    "restuarant.number_served = 46\n",
    "print(restuarant.number_served)\n",
    "\n",
    "restuarant.set_number_served(567)\n",
    "print(restuarant.number_served)\n",
    "\n",
    "restuarant.increment_number_served(100)\n",
    "print(restuarant.number_served)\n"
   ]
  },
  {
   "cell_type": "markdown",
   "metadata": {},
   "source": [
    "# 9-5: Login Attempts"
   ]
  },
  {
   "cell_type": "code",
   "execution_count": 65,
   "metadata": {},
   "outputs": [
    {
     "name": "stdout",
     "output_type": "stream",
     "text": [
      "Full name: Caitlin Stewart\n",
      "Age: 22\n",
      "Location: Seattle\n",
      "Welcome, Caitlin Stewart!\n",
      "1\n",
      "2\n",
      "3\n",
      "4\n",
      "0\n"
     ]
    }
   ],
   "source": [
    "class User():\n",
    "    def __init__(self, first_name, last_name, age, location):\n",
    "        self.first_name = first_name\n",
    "        self.last_name = last_name\n",
    "        self.age = str(age)\n",
    "        self.location = location\n",
    "        self.login_attempts = 0\n",
    "    def describe_user(self):\n",
    "        print(\"Full name: \" + self.first_name.title() + \" \" + self.last_name.title())\n",
    "        print(\"Age: \" + self.age)\n",
    "        print(\"Location: \" + self.location.title())\n",
    "    def greet_user(self):\n",
    "        print(\"Welcome, \" + self.first_name.title() + \" \" + self.last_name.title() + \"!\")\n",
    "    def icrement_login_attempts(self):\n",
    "        self.login_attempts += 1\n",
    "        print(self.login_attempts)\n",
    "    def reset_login_attempts(self):\n",
    "        self.login_attempts = 0\n",
    "        print(self.login_attempts)\n",
    "\n",
    "caitlin = User(\"caitlin\", \"stewart\", 22, \"seattle\")\n",
    "caitlin.describe_user()\n",
    "caitlin.greet_user()\n",
    "caitlin.icrement_login_attempts()\n",
    "caitlin.icrement_login_attempts()\n",
    "caitlin.icrement_login_attempts()\n",
    "caitlin.icrement_login_attempts()\n",
    "caitlin.reset_login_attempts()\n",
    "\n"
   ]
  },
  {
   "cell_type": "markdown",
   "metadata": {},
   "source": [
    "# 9-6: Ice Cream Stand"
   ]
  },
  {
   "cell_type": "code",
   "execution_count": 96,
   "metadata": {},
   "outputs": [
    {
     "name": "stdout",
     "output_type": "stream",
     "text": [
      "You want to have ice cream at the resturant, Kilwins.\n",
      "Our flavors are: \n",
      " - Chocolate\n",
      " - Coconut\n",
      " - Vanilla\n"
     ]
    }
   ],
   "source": [
    "class Restuarant():\n",
    "    def __init__(self, name, cuisine_type):\n",
    "        self.name = name\n",
    "        self.cuisine_type = cuisine_type\n",
    "    def describe_restuarant(self):\n",
    "        print(\"You want to have \" + self.cuisine_type + \" at the resturant, \" \n",
    "              + self.name.title() + \".\")\n",
    "    def open_restuarant(self):\n",
    "        print(\"The restaurant, \" + self.name.title() + \", is open!\")\n",
    "    \n",
    "class IceCreamStand(Restuarant):\n",
    "    def __init__(self, name, cuisine_type):\n",
    "        super().__init__(name, cuisine_type)\n",
    "        self.flavors = []\n",
    "    def flavor_options(self):\n",
    "        print(\"Our flavors are: \")\n",
    "        for flavor in self.flavors:\n",
    "            print(\" - \" + flavor.title())\n",
    "\n",
    "ice_cream = IceCreamStand(\"kilwins\", \"ice cream\")\n",
    "ice_cream.flavors = ['chocolate', 'coconut', 'vanilla',]\n",
    "\n",
    "ice_cream.describe_restuarant()\n",
    "ice_cream.flavor_options()"
   ]
  },
  {
   "cell_type": "markdown",
   "metadata": {},
   "source": [
    "# 9-7: Admin"
   ]
  },
  {
   "cell_type": "code",
   "execution_count": 99,
   "metadata": {},
   "outputs": [
    {
     "name": "stdout",
     "output_type": "stream",
     "text": [
      "Full name: Caitlin Stewart\n",
      "Age: 22\n",
      "Location: Seattle\n",
      "Administrator privileges: \n",
      " - can add post\n",
      " - can delete post\n",
      " - can ban user\n"
     ]
    }
   ],
   "source": [
    "class User():\n",
    "    def __init__(self, first_name, last_name, age, location):\n",
    "        self.first_name = first_name\n",
    "        self.last_name = last_name\n",
    "        self.age = str(age)\n",
    "        self.location = location\n",
    "    def describe_user(self):\n",
    "        print(\"Full name: \" + self.first_name.title() + \" \" + self.last_name.title())\n",
    "        print(\"Age: \" + self.age)\n",
    "        print(\"Location: \" + self.location.title())\n",
    "    def greet_user(self):\n",
    "        print(\"Welcome, \" + self.first_name.title() + \" \" + self.last_name.title() + \"!\")\n",
    "        \n",
    "class Admin(User):\n",
    "    def __init__(self, first_name, last_name, age, location):\n",
    "        super().__init__(first_name, last_name, age, location)\n",
    "        self.privileges = []\n",
    "    def show_privileges(self):\n",
    "        print(\"Administrator privileges: \")\n",
    "        for privilege in self.privileges:\n",
    "            print(\" - \" + privilege)\n",
    "\n",
    "caitlin = Admin(\"caitlin\", \"stewart\", \"22\", \"seattle\")\n",
    "caitlin.privileges = ['can add post', 'can delete post', 'can ban user',]\n",
    "\n",
    "caitlin.describe_user()\n",
    "caitlin.show_privileges()\n",
    "    "
   ]
  },
  {
   "cell_type": "markdown",
   "metadata": {},
   "source": [
    "# 9-8: Privileges"
   ]
  },
  {
   "cell_type": "code",
   "execution_count": 115,
   "metadata": {},
   "outputs": [
    {
     "name": "stdout",
     "output_type": "stream",
     "text": [
      "Full name: Caitlin Stewart\n",
      "Age: 22\n",
      "Location: Seattle\n",
      "Administrator privileges: \n",
      " - can add post\n",
      " - can delete post\n",
      " - can ban user\n"
     ]
    }
   ],
   "source": [
    "class User():\n",
    "    def __init__(self, first_name, last_name, age, location):\n",
    "        self.first_name = first_name\n",
    "        self.last_name = last_name\n",
    "        self.age = str(age)\n",
    "        self.location = location\n",
    "    def describe_user(self):\n",
    "        print(\"Full name: \" + self.first_name.title() + \" \" + self.last_name.title())\n",
    "        print(\"Age: \" + self.age)\n",
    "        print(\"Location: \" + self.location.title())\n",
    "    def greet_user(self):\n",
    "        print(\"Welcome, \" + self.first_name.title() + \" \" + self.last_name.title() + \"!\")\n",
    "        \n",
    "class Admin(User):\n",
    "    def __init__(self, first_name, last_name, age, location):\n",
    "        super().__init__(first_name, last_name, age, location)\n",
    "        self.privileges = Privileges()\n",
    "            \n",
    "class Privileges():\n",
    "    def __init__(self, privileges=[]):\n",
    "        self.privileges = privileges\n",
    "    def show_privileges(self):\n",
    "        if self.privileges: \n",
    "            print(\"Administrator privileges: \")\n",
    "            for privilege in self.privileges:\n",
    "                print(\" - \" + privilege)\n",
    "        else:\n",
    "            print(\"You are not an administrator!\")\n",
    "            \n",
    "        \n",
    "caitlin = Admin(\"caitlin\", \"stewart\", \"22\", \"seattle\")\n",
    "caitlin.describe_user()\n",
    "caitlin_privileges = ['can add post', 'can delete post', 'can ban user',]\n",
    "caitlin.privileges.privileges = caitlin_privileges\n",
    "caitlin.privileges.show_privileges()"
   ]
  },
  {
   "cell_type": "markdown",
   "metadata": {},
   "source": [
    "# 9-9: Battery Update"
   ]
  },
  {
   "cell_type": "code",
   "execution_count": 121,
   "metadata": {},
   "outputs": [
    {
     "name": "stdout",
     "output_type": "stream",
     "text": [
      "2018 Chevy Volt\n",
      "This car has a 70-kWh battery.\n",
      "This car can go approximately 240 miles on a full charge.\n",
      "New and improved car:\n",
      "This car has a 85-kWh battery.\n",
      "This car can go approximately 270 miles on a full charge.\n"
     ]
    }
   ],
   "source": [
    "class Car():\n",
    "    \"\"\"A simple attempt to represent a car.\"\"\"\n",
    "\n",
    "    def __init__(self, make, model, year):\n",
    "        \"\"\"Initialize attributes to describe a car.\"\"\"\n",
    "        self.make = make\n",
    "        self.model = model\n",
    "        self.year = year\n",
    "        self.odometer_reading = 0\n",
    "    \n",
    "    def get_descriptive_name(self):\n",
    "        \"\"\"Return a neatly formatted descriptive name.\"\"\"\n",
    "        long_name = str(self.year) + ' ' + self.make + ' ' + self.model\n",
    "        return long_name.title()\n",
    "\n",
    "    def read_odometer(self):\n",
    "        \"\"\"Print a statement showing the car's mileage.\"\"\"\n",
    "        print(\"This car has \" + str(self.odometer_reading) + \" miles on it.\")\n",
    "\n",
    "    def update_odometer(self, mileage):\n",
    "        \"\"\"\n",
    "        Set the odometer reading to the given value.\n",
    "        Reject the change if it attempts to roll the odometer back.\n",
    "        \"\"\"\n",
    "        if mileage >= self.odometer_reading:\n",
    "            self.odometer_reading = mileage\n",
    "        else:\n",
    "            print(\"You can't roll back an odometer!\")\n",
    "\n",
    "    def increment_odometer(self, mileage):\n",
    "        \"\"\"\n",
    "        Add the given amount to the odometer reading.\n",
    "        Reject the change for a negative values.\n",
    "        \"\"\"\n",
    "        if mileage >= 0:\n",
    "            self.odometer_reading += mileage\n",
    "        else:\n",
    "            print(\"You can't roll back an odometer!\")\n",
    "            \n",
    "class Battery:\n",
    "    # A simple attempt to model a battery for an electric car.\n",
    "    def __init__(self, battery_size=70):\n",
    "        # Initialize the battery's attributes.\n",
    "        self.battery_size = battery_size\n",
    "\n",
    "    def describe_battery(self):\n",
    "        # Print a statement describing the battery size.\n",
    "        print(\"This car has a \" + str(self.battery_size) + \"-kWh battery.\")\n",
    "\n",
    "    def get_range(self):\n",
    "        # Print a statement about the range this battery provides.\n",
    "        if self.battery_size == 70:\n",
    "            range = 240\n",
    "        elif self.battery_size == 85:\n",
    "            range = 270\n",
    "\n",
    "        message = \"This car can go approximately \" + str(range) + \\\n",
    "                  \" miles on a full charge.\"\n",
    "        print(message)\n",
    "    \n",
    "    def upgrade_battery(self):\n",
    "        self.battery_size = 85\n",
    "\n",
    "class ElectricCar(Car):\n",
    "    \"\"\"Represent aspects of a car, specific to electric vehicles.\"\"\"\n",
    "\n",
    "    def __init__(self, make, model, year):\n",
    "        \"\"\"\n",
    "        Initialize attributes of the parent class.\n",
    "        Then initialize attributes specific to an electric car.\n",
    "        \"\"\"\n",
    "        super().__init__(make, model, year)\n",
    "        self.battery_size = Battery()\n",
    "\n",
    "volt = ElectricCar('Chevy', 'volt', 2018)\n",
    "print(volt.get_descriptive_name())\n",
    "volt.battery_size.describe_battery()\n",
    "volt.battery_size.get_range()\n",
    "\n",
    "print(\"New and improved car:\")\n",
    "volt.battery_size.upgrade_battery()\n",
    "volt.battery_size.describe_battery()\n",
    "volt.battery_size.get_range()"
   ]
  },
  {
   "cell_type": "markdown",
   "metadata": {},
   "source": [
    "# 9-10: Imported Restaurant"
   ]
  },
  {
   "cell_type": "code",
   "execution_count": 122,
   "metadata": {},
   "outputs": [
    {
     "name": "stdout",
     "output_type": "stream",
     "text": [
      "Maize\n",
      "Mexican\n",
      "46\n",
      "567\n",
      "667\n"
     ]
    }
   ],
   "source": [
    "from restaurant import Restuarant\n",
    "\n",
    "restuarant = Restuarant(\"maize\", \"mexican\", 0)\n",
    "print(restuarant.name.title())\n",
    "print(restuarant.cuisine_type.title())\n",
    "restuarant.number_served = 46\n",
    "print(restuarant.number_served)\n",
    "\n",
    "restuarant.set_number_served(567)\n",
    "print(restuarant.number_served)\n",
    "\n",
    "restuarant.increment_number_served(100)\n",
    "print(restuarant.number_served)"
   ]
  },
  {
   "cell_type": "markdown",
   "metadata": {},
   "source": [
    "# 9-11: Imported Admin"
   ]
  },
  {
   "cell_type": "code",
   "execution_count": 125,
   "metadata": {},
   "outputs": [
    {
     "name": "stdout",
     "output_type": "stream",
     "text": [
      "Administrator privileges: \n",
      " - can add post\n",
      " - can delete post\n",
      " - can ban user\n"
     ]
    }
   ],
   "source": [
    "from classesnine_eight import Admin\n",
    "caitlin = Admin(\"caitlin\", \"stewart\", \"22\", \"seattle\")\n",
    "caitlin_privileges = ['can add post', 'can delete post', 'can ban user',]\n",
    "caitlin.privileges.privileges = caitlin_privileges\n",
    "caitlin.privileges.show_privileges()"
   ]
  },
  {
   "cell_type": "markdown",
   "metadata": {},
   "source": [
    "# 9-12: Multiple Modules"
   ]
  },
  {
   "cell_type": "code",
   "execution_count": 137,
   "metadata": {},
   "outputs": [
    {
     "name": "stdout",
     "output_type": "stream",
     "text": [
      "Administrator privileges: \n",
      " - can add post\n",
      " - can delete post\n",
      " - can ban user\n"
     ]
    }
   ],
   "source": [
    "from adminprivilegeclass import Admin\n",
    "caitlin = Admin(\"caitlin\", \"stewart\", \"22\", \"seattle\")\n",
    "caitlin_privileges = ['can add post', 'can delete post', 'can ban user',]\n",
    "caitlin.privileges.privileges = caitlin_privileges\n",
    "caitlin.privileges.show_privileges()"
   ]
  },
  {
   "cell_type": "markdown",
   "metadata": {},
   "source": [
    "# 9-13: OrderedDict Rewrite"
   ]
  },
  {
   "cell_type": "code",
   "execution_count": 139,
   "metadata": {},
   "outputs": [
    {
     "name": "stdout",
     "output_type": "stream",
     "text": [
      "\n",
      "Concatenation can be defined as: \n",
      "Combining Strings.\n",
      "\n",
      "Strings can be defined as: \n",
      "A Series Of Characters. Anything Inside Quotes Is Considered A String In Python.\n",
      "\n",
      "List can be defined as: \n",
      "A Collection Of Items In A Particular Order.\n",
      "\n",
      "Set can be defined as: \n",
      "A Collection Of Items Where The Order Does Not Matter.\n",
      "\n",
      "Loop can be defined as: \n",
      "Allows You To Take The Same Action Or A Set Of Actions, With Every Item In A List.\n"
     ]
    }
   ],
   "source": [
    "from collections import OrderedDict\n",
    "\n",
    "glossary = OrderedDict()\n",
    "\n",
    "glossary[\"concatenation\"] = \"combining strings\"\n",
    "glossary [\"strings\"] = \"a series of characters. Anything inside quotes is considered a string in Python\"\n",
    "glossary [\"list\"] = \"a collection of items in a particular order\" \n",
    "glossary [\"set\"] = \"a collection of items where the order does not matter\" \n",
    "glossary [\"loop\"] = \"allows you to take the same action or a set of actions, with every item in a list\"\n",
    "\n",
    "\n",
    "for term, definition in glossary.items():\n",
    "    print(\"\\n\" + term.title() + \" can be defined as: \\n\" + definition.title() + \".\")"
   ]
  },
  {
   "cell_type": "markdown",
   "metadata": {},
   "source": [
    "# 9-14: Dice"
   ]
  },
  {
   "cell_type": "code",
   "execution_count": 156,
   "metadata": {},
   "outputs": [
    {
     "name": "stdout",
     "output_type": "stream",
     "text": [
      "Twenty-sided die: \n",
      "10\n",
      "9\n",
      "4\n",
      "11\n",
      "11\n",
      "7\n",
      "4\n",
      "20\n",
      "12\n",
      "13\n"
     ]
    }
   ],
   "source": [
    "class Die:\n",
    "    def __init__(self, sides):\n",
    "        self.sides = sides\n",
    "    def roll_die(self):\n",
    "        from random import randint\n",
    "        x = randint(1,20)\n",
    "        print(x)\n",
    "twenty = Die(20)\n",
    "print(\"Twenty-sided die: \")\n",
    "twenty.roll_die()\n",
    "twenty.roll_die()\n",
    "twenty.roll_die()\n",
    "twenty.roll_die()\n",
    "twenty.roll_die()\n",
    "twenty.roll_die()\n",
    "twenty.roll_die()\n",
    "twenty.roll_die()\n",
    "twenty.roll_die()\n",
    "twenty.roll_die()"
   ]
  },
  {
   "cell_type": "code",
   "execution_count": 147,
   "metadata": {},
   "outputs": [
    {
     "name": "stdout",
     "output_type": "stream",
     "text": [
      "6\n"
     ]
    }
   ],
   "source": []
  },
  {
   "cell_type": "code",
   "execution_count": null,
   "metadata": {},
   "outputs": [],
   "source": []
  }
 ],
 "metadata": {
  "kernelspec": {
   "display_name": "Python 3",
   "language": "python",
   "name": "python3"
  },
  "language_info": {
   "codemirror_mode": {
    "name": "ipython",
    "version": 3
   },
   "file_extension": ".py",
   "mimetype": "text/x-python",
   "name": "python",
   "nbconvert_exporter": "python",
   "pygments_lexer": "ipython3",
   "version": "3.6.5"
  }
 },
 "nbformat": 4,
 "nbformat_minor": 2
}
