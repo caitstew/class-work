{
 "cells": [
  {
   "cell_type": "markdown",
   "metadata": {},
   "source": [
    "# 6-9: Favorite Places"
   ]
  },
  {
   "cell_type": "code",
   "execution_count": 16,
   "metadata": {},
   "outputs": [
    {
     "name": "stdout",
     "output_type": "stream",
     "text": [
      "\n",
      "Caitlin's favorite places are: \n",
      "\tIceland\n",
      "\tAustralia\n",
      "\tSpain\n",
      "\n",
      "Michael's favorite places are: \n",
      "\tEcuador\n",
      "\tGalapagos Islands\n",
      "\tBrazil\n",
      "\n",
      "Elizabeth's favorite places are: \n",
      "\tJapan\n",
      "\tGermany\n",
      "\tDenmark\n"
     ]
    }
   ],
   "source": [
    "favorite_places = {\"caitlin\" : [\"iceland\", \"australia\", \"spain\"], \n",
    "                  \"michael\" : [\"ecuador\", \"galapagos islands\", \"brazil\"],\n",
    "                   \"elizabeth\" : [\"japan\", \"germany\", \"denmark\"],\n",
    "                  }\n",
    "for name, places in favorite_places.items():\n",
    "    print(\"\\n\" + name.title() + \"'s favorite places are: \")\n",
    "    for place in places:\n",
    "        print(\"\\t\" + place.title())\n",
    "    \n",
    "    "
   ]
  },
  {
   "cell_type": "code",
   "execution_count": null,
   "metadata": {},
   "outputs": [],
   "source": []
  }
 ],
 "metadata": {
  "kernelspec": {
   "display_name": "Python 3",
   "language": "python",
   "name": "python3"
  },
  "language_info": {
   "codemirror_mode": {
    "name": "ipython",
    "version": 3
   },
   "file_extension": ".py",
   "mimetype": "text/x-python",
   "name": "python",
   "nbconvert_exporter": "python",
   "pygments_lexer": "ipython3",
   "version": "3.6.5"
  }
 },
 "nbformat": 4,
 "nbformat_minor": 2
}
