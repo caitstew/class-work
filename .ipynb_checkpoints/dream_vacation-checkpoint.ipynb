{
 "cells": [
  {
   "cell_type": "markdown",
   "metadata": {},
   "source": [
    "# 7-10: Dream Vacation"
   ]
  },
  {
   "cell_type": "code",
   "execution_count": 1,
   "metadata": {},
   "outputs": [
    {
     "name": "stdout",
     "output_type": "stream",
     "text": [
      "\n",
      "What is your name? Caitlin\n",
      "\n",
      "If you could visit one place in the world, where would you go? iceland\n",
      "Would you like to let another person respond? (yes/ no) yes\n",
      "\n",
      "What is your name? Michael\n",
      "\n",
      "If you could visit one place in the world, where would you go? galapagos islands\n",
      "Would you like to let another person respond? (yes/ no) no\n",
      "\n",
      "___________________Poll Results______________________\n",
      "Caitlin would most want to visit Iceland!\n",
      "Michael would most want to visit Galapagos Islands!\n"
     ]
    }
   ],
   "source": [
    "responses = {}\n",
    "polling_active = True\n",
    "\n",
    "while polling_active:\n",
    "    name = input(\"\\nWhat is your name? \")\n",
    "    response = input(\"\\nIf you could visit one place in the world, where would you go? \")\n",
    "\n",
    "    responses[name] = response\n",
    "\n",
    "    responses2 = input(\"Would you like to let another person respond? (yes/ no) \")\n",
    "    if responses2 == \"no\":\n",
    "        polling_active = False\n",
    "    \n",
    "print(\"\\n___________________Poll Results______________________\")\n",
    "for name, response in responses.items():\n",
    "    print(name.title() + \" would most want to visit \" + response.title() + \"!\")"
   ]
  },
  {
   "cell_type": "code",
   "execution_count": null,
   "metadata": {},
   "outputs": [],
   "source": []
  },
  {
   "cell_type": "code",
   "execution_count": null,
   "metadata": {},
   "outputs": [],
   "source": []
  }
 ],
 "metadata": {
  "kernelspec": {
   "display_name": "Python 3",
   "language": "python",
   "name": "python3"
  },
  "language_info": {
   "codemirror_mode": {
    "name": "ipython",
    "version": 3
   },
   "file_extension": ".py",
   "mimetype": "text/x-python",
   "name": "python",
   "nbconvert_exporter": "python",
   "pygments_lexer": "ipython3",
   "version": "3.6.5"
  }
 },
 "nbformat": 4,
 "nbformat_minor": 2
}
