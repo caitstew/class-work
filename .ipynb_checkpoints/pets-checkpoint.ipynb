{
 "cells": [
  {
   "cell_type": "markdown",
   "metadata": {},
   "source": [
    "# 6-8: Pets"
   ]
  },
  {
   "cell_type": "code",
   "execution_count": 17,
   "metadata": {},
   "outputs": [
    {
     "name": "stdout",
     "output_type": "stream",
     "text": [
      "This is what I know about our pet families:\n",
      "\n",
      "Foster's owner is Katherine. Foster is a golden retriever.\n",
      "\n",
      "Bailey's owner is Michael. Bailey is a norwegian forest cat.\n",
      "\n",
      "Jojo's owner is Caitlin. Jojo is a long-haired american cat.\n"
     ]
    }
   ],
   "source": [
    "foster = {\"name\" : \"foster\",\n",
    "          \"owner\" : \"katherine\", \n",
    "         \"breed\" : \"golden retriever\",}\n",
    "bailey = {\"name\" : \"bailey\",\n",
    "          \"owner\" : \"michael\", \n",
    "         \"breed\" : \"norwegian forest cat\",}\n",
    "jojo = {\"name\" : \"jojo\",\n",
    "        \"owner\" : \"caitlin\", \n",
    "         \"breed\" : \"long-haired american cat\"}\n",
    "\n",
    "pets = [foster, bailey, jojo]\n",
    "\n",
    "print(\"This is what I know about our pet families:\")\n",
    "for pet in pets:\n",
    "    print(\"\\n\" + pet[\"name\"].title() + \"'s owner is \" + pet[\"owner\"].title() + \". \" \n",
    "          + pet[\"name\"].title() + \" is a \" + pet[\"breed\"] + \".\")"
   ]
  },
  {
   "cell_type": "code",
   "execution_count": null,
   "metadata": {},
   "outputs": [],
   "source": []
  }
 ],
 "metadata": {
  "kernelspec": {
   "display_name": "Python 3",
   "language": "python",
   "name": "python3"
  },
  "language_info": {
   "codemirror_mode": {
    "name": "ipython",
    "version": 3
   },
   "file_extension": ".py",
   "mimetype": "text/x-python",
   "name": "python",
   "nbconvert_exporter": "python",
   "pygments_lexer": "ipython3",
   "version": "3.6.5"
  }
 },
 "nbformat": 4,
 "nbformat_minor": 2
}
