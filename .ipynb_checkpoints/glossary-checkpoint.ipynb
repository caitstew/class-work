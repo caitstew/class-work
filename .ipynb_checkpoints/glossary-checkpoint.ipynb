{
 "cells": [
  {
   "cell_type": "markdown",
   "metadata": {},
   "source": [
    "# 6-4: Glossary"
   ]
  },
  {
   "cell_type": "code",
   "execution_count": 4,
   "metadata": {},
   "outputs": [
    {
     "name": "stdout",
     "output_type": "stream",
     "text": [
      "\n",
      "Concatenation can be defined as: \n",
      "Combining Strings.\n",
      "\n",
      "Strings can be defined as: \n",
      "A Series Of Characters. Anything Inside Quotes Is Considered A String In Python.\n",
      "\n",
      "List can be defined as: \n",
      "A Collection Of Items In A Particular Order.\n",
      "\n",
      "Set can be defined as: \n",
      "A Collection Of Items Where The Order Does Not Matter.\n",
      "\n",
      "Loop can be defined as: \n",
      "Allows You To Take The Same Action Or A Set Of Actions, With Every Item In A List.\n"
     ]
    }
   ],
   "source": [
    "terms = {\n",
    "        \"concatenation\" : \"combining strings\",\n",
    "        \"strings\" : \"a series of characters. Anything inside quotes is considered a string in Python\",\n",
    "        \"list\" : \"a collection of items in a particular order\", \n",
    "        \"set\" : \"a collection of items where the order does not matter\", \n",
    "        \"loop\" : \"allows you to take the same action or a set of actions, with every item in a list\",\n",
    "}\n",
    "\n",
    "for term, definition in terms.items():\n",
    "    print(\"\\n\" + term.title() + \" can be defined as: \\n\" + definition.title() + \".\")\n"
   ]
  },
  {
   "cell_type": "code",
   "execution_count": null,
   "metadata": {},
   "outputs": [],
   "source": []
  }
 ],
 "metadata": {
  "kernelspec": {
   "display_name": "Python 3",
   "language": "python",
   "name": "python3"
  },
  "language_info": {
   "codemirror_mode": {
    "name": "ipython",
    "version": 3
   },
   "file_extension": ".py",
   "mimetype": "text/x-python",
   "name": "python",
   "nbconvert_exporter": "python",
   "pygments_lexer": "ipython3",
   "version": "3.6.5"
  }
 },
 "nbformat": 4,
 "nbformat_minor": 2
}
