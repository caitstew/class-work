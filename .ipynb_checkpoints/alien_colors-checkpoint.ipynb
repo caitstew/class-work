{
 "cells": [
  {
   "cell_type": "markdown",
   "metadata": {},
   "source": [
    "# 5-3: Alien Colors 1"
   ]
  },
  {
   "cell_type": "code",
   "execution_count": 2,
   "metadata": {},
   "outputs": [],
   "source": [
    "alien_color = \"red\"\n",
    "if alien_color == \"green\":\n",
    "    print(\"You have just earned 5 points!\")"
   ]
  },
  {
   "cell_type": "code",
   "execution_count": 3,
   "metadata": {},
   "outputs": [
    {
     "name": "stdout",
     "output_type": "stream",
     "text": [
      "You have just earned 5 points!\n"
     ]
    }
   ],
   "source": [
    "alien_color = \"green\"\n",
    "if alien_color == \"green\":\n",
    "    print(\"You have just earned 5 points!\")"
   ]
  },
  {
   "cell_type": "markdown",
   "metadata": {},
   "source": [
    "# 5-4: Alien Colors 2"
   ]
  },
  {
   "cell_type": "code",
   "execution_count": 4,
   "metadata": {},
   "outputs": [
    {
     "name": "stdout",
     "output_type": "stream",
     "text": [
      "You have just earned 10 points!\n"
     ]
    }
   ],
   "source": [
    "alien_color = \"red\"\n",
    "if alien_color == \"green\":\n",
    "    print(\"You have just earned 5 points!\")\n",
    "else:\n",
    "    print(\"You have just earned 10 points!\")"
   ]
  },
  {
   "cell_type": "code",
   "execution_count": 5,
   "metadata": {},
   "outputs": [
    {
     "name": "stdout",
     "output_type": "stream",
     "text": [
      "You have just earned 5 points!\n"
     ]
    }
   ],
   "source": [
    "alien_color = \"green\"\n",
    "if alien_color == \"green\":\n",
    "    print(\"You have just earned 5 points!\")\n",
    "else:\n",
    "    print(\"You have just earned 10 points!\")"
   ]
  },
  {
   "cell_type": "markdown",
   "metadata": {},
   "source": [
    "# 5-5: Alien Colors 3"
   ]
  },
  {
   "cell_type": "code",
   "execution_count": 7,
   "metadata": {},
   "outputs": [
    {
     "name": "stdout",
     "output_type": "stream",
     "text": [
      "You have just earned 15 points!\n"
     ]
    }
   ],
   "source": [
    "alien_color = \"red\"\n",
    "if alien_color == \"green\":\n",
    "    print(\"You have just earned 5 points!\")\n",
    "elif alien_color == \"yellow\":\n",
    "    print(\"You have just earned 10 points!\")\n",
    "elif alien_color == \"red\":\n",
    "    print(\"You have just earned 15 points!\")"
   ]
  },
  {
   "cell_type": "code",
   "execution_count": 8,
   "metadata": {},
   "outputs": [
    {
     "name": "stdout",
     "output_type": "stream",
     "text": [
      "You have just earned 5 points!\n"
     ]
    }
   ],
   "source": [
    "alien_color = \"green\"\n",
    "if alien_color == \"green\":\n",
    "    print(\"You have just earned 5 points!\")\n",
    "elif alien_color == \"yellow\":\n",
    "    print(\"You have just earned 10 points!\")\n",
    "elif alien_color == \"red\":\n",
    "    print(\"You have just earned 15 points!\")"
   ]
  },
  {
   "cell_type": "code",
   "execution_count": 9,
   "metadata": {},
   "outputs": [
    {
     "name": "stdout",
     "output_type": "stream",
     "text": [
      "You have just earned 10 points!\n"
     ]
    }
   ],
   "source": [
    "alien_color = \"yellow\"\n",
    "if alien_color == \"green\":\n",
    "    print(\"You have just earned 5 points!\")\n",
    "elif alien_color == \"yellow\":\n",
    "    print(\"You have just earned 10 points!\")\n",
    "elif alien_color == \"red\":\n",
    "    print(\"You have just earned 15 points!\")"
   ]
  },
  {
   "cell_type": "code",
   "execution_count": null,
   "metadata": {},
   "outputs": [],
   "source": []
  }
 ],
 "metadata": {
  "kernelspec": {
   "display_name": "Python 3",
   "language": "python",
   "name": "python3"
  },
  "language_info": {
   "codemirror_mode": {
    "name": "ipython",
    "version": 3
   },
   "file_extension": ".py",
   "mimetype": "text/x-python",
   "name": "python",
   "nbconvert_exporter": "python",
   "pygments_lexer": "ipython3",
   "version": "3.6.5"
  }
 },
 "nbformat": 4,
 "nbformat_minor": 2
}
