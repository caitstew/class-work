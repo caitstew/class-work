{
 "cells": [
  {
   "cell_type": "markdown",
   "metadata": {},
   "source": [
    "# 7-4: Pizza Toppings"
   ]
  },
  {
   "cell_type": "code",
   "execution_count": 1,
   "metadata": {},
   "outputs": [
    {
     "name": "stdout",
     "output_type": "stream",
     "text": [
      "Enter all the toppings you would like on your pizza: \n",
      "Enter 'done' when you have added all the topping you would like.green peppers\n",
      "\n",
      "Adding green peppers to your pizza!\n",
      "Enter all the toppings you would like on your pizza: \n",
      "Enter 'done' when you have added all the topping you would like.sausage\n",
      "\n",
      "Adding sausage to your pizza!\n",
      "Enter all the toppings you would like on your pizza: \n",
      "Enter 'done' when you have added all the topping you would like.tomatoes\n",
      "\n",
      "Adding tomatoes to your pizza!\n",
      "Enter all the toppings you would like on your pizza: \n",
      "Enter 'done' when you have added all the topping you would like.done\n"
     ]
    }
   ],
   "source": [
    "prompt = \"Enter all the toppings you would like on your pizza: \"\n",
    "prompt += \"\\nEnter 'done' when you have added all the topping you would like.\"\n",
    "\n",
    "while True:\n",
    "    toppings = input(prompt)\n",
    "    \n",
    "    if toppings == \"done\":\n",
    "        break\n",
    "    else:\n",
    "        print(\"\\nAdding \" + toppings + \" to your pizza!\")"
   ]
  },
  {
   "cell_type": "code",
   "execution_count": null,
   "metadata": {},
   "outputs": [],
   "source": []
  },
  {
   "cell_type": "code",
   "execution_count": null,
   "metadata": {},
   "outputs": [],
   "source": []
  }
 ],
 "metadata": {
  "kernelspec": {
   "display_name": "Python 3",
   "language": "python",
   "name": "python3"
  },
  "language_info": {
   "codemirror_mode": {
    "name": "ipython",
    "version": 3
   },
   "file_extension": ".py",
   "mimetype": "text/x-python",
   "name": "python",
   "nbconvert_exporter": "python",
   "pygments_lexer": "ipython3",
   "version": "3.6.5"
  }
 },
 "nbformat": 4,
 "nbformat_minor": 2
}
