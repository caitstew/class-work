{
 "cells": [
  {
   "cell_type": "markdown",
   "metadata": {},
   "source": [
    "# 6-5: Rivers"
   ]
  },
  {
   "cell_type": "code",
   "execution_count": 17,
   "metadata": {},
   "outputs": [
    {
     "name": "stdout",
     "output_type": "stream",
     "text": [
      "The Nile runs through Egypt.\n",
      "The Mississippi runs through USA.\n",
      "The Amazon runs through Peru.\n",
      "\n",
      "Nile\n",
      "\n",
      "Mississippi\n",
      "\n",
      "Amazon\n",
      "\n",
      "Egypt\n",
      "\n",
      "USA\n",
      "\n",
      "Peru\n"
     ]
    }
   ],
   "source": [
    "rivers = {\n",
    "    \"nile\" : \"egypt\",\n",
    "    \"mississippi\" : \"usa\", \n",
    "    \"amazon\" : \"peru\",\n",
    "}\n",
    "for river, country in rivers.items():\n",
    "    if country == \"usa\":\n",
    "        print(\"The \" + river.title() + \" runs through \" + country.upper() + \".\")\n",
    "    else:\n",
    "        print(\"The \" + river.title() + \" runs through \" + country.title() + \".\")\n",
    "\n",
    "for river in rivers.keys():\n",
    "    print(\"\\n\" + river.title())\n",
    "for country in rivers.values():\n",
    "    if country == \"usa\":\n",
    "        print(\"\\n\" + country.upper())\n",
    "    else:\n",
    "        print(\"\\n\" + country.title())"
   ]
  },
  {
   "cell_type": "markdown",
   "metadata": {},
   "source": [
    "# 6-12: Extension\n",
    "I decided to extend my code based on 6-5: Rivers"
   ]
  },
  {
   "cell_type": "code",
   "execution_count": 28,
   "metadata": {},
   "outputs": [
    {
     "name": "stdout",
     "output_type": "stream",
     "text": [
      "The Nile runs through Egypt. It is 4278 miles!\n",
      "The Mississippi runs through the USA. It is 2348 miles!\n",
      "The Amazon runs through Peru. It is 4345 miles!\n"
     ]
    }
   ],
   "source": [
    "rivers = {\n",
    "    \"nile\" : {\"country\" : \"egypt\", \"length\" : \"4278 miles\"},\n",
    "    \"mississippi\" : {\"country\" : \"usa\", \"length\" : \"2348 miles\"},\n",
    "    \"amazon\" : {\"country\" : \"peru\", \"length\" : \"4345 miles\"},\n",
    "}\n",
    "\n",
    "for river, info in rivers.items():\n",
    "    country = info[\"country\"]\n",
    "    length = info[\"length\"]\n",
    "    \n",
    "    if country == \"usa\":\n",
    "        print(\"The \" + river.title() + \" runs through the \" + country.upper() + \n",
    "              \". It is \" + length + \"!\")    \n",
    "    else: \n",
    "        print(\"The \" + river.title() + \" runs through \" + country.title() + \n",
    "              \". It is \" + length + \"!\")  "
   ]
  },
  {
   "cell_type": "code",
   "execution_count": null,
   "metadata": {},
   "outputs": [],
   "source": []
  }
 ],
 "metadata": {
  "kernelspec": {
   "display_name": "Python 3",
   "language": "python",
   "name": "python3"
  },
  "language_info": {
   "codemirror_mode": {
    "name": "ipython",
    "version": 3
   },
   "file_extension": ".py",
   "mimetype": "text/x-python",
   "name": "python",
   "nbconvert_exporter": "python",
   "pygments_lexer": "ipython3",
   "version": "3.6.5"
  }
 },
 "nbformat": 4,
 "nbformat_minor": 2
}
