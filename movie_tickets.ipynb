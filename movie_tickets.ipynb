{
 "cells": [
  {
   "cell_type": "markdown",
   "metadata": {},
   "source": [
    "# 7-5: Movie Tickets"
   ]
  },
  {
   "cell_type": "code",
   "execution_count": 9,
   "metadata": {},
   "outputs": [
    {
     "name": "stdout",
     "output_type": "stream",
     "text": [
      "How old are you? 13\n",
      "Your ticket is $15.00.\n"
     ]
    }
   ],
   "source": [
    "prompt = \"How old are you? \"\n",
    "\n",
    "age = input(prompt)\n",
    "\n",
    "if int(age) < 3:\n",
    "    print(str(\"Your ticket is free!\"))\n",
    "elif int(age) <= 12:\n",
    "    print(str(\"Your ticket is $10.00.\"))\n",
    "else:\n",
    "    print(str(\"Your ticket is $15.00.\"))"
   ]
  },
  {
   "cell_type": "markdown",
   "metadata": {},
   "source": [
    " # 7-6: Three Exits"
   ]
  },
  {
   "cell_type": "code",
   "execution_count": 2,
   "metadata": {},
   "outputs": [
    {
     "name": "stdout",
     "output_type": "stream",
     "text": [
      "For each member in your party enter their age: \n",
      "When you have entered every person's age enter 'done'.17\n",
      "\n",
      "That person's ticket is $15.00.\n",
      "For each member in your party enter their age: \n",
      "When you have entered every person's age enter 'done'.34\n",
      "\n",
      "That person's ticket is $15.00.\n",
      "For each member in your party enter their age: \n",
      "When you have entered every person's age enter 'done'.2\n",
      "\n",
      "That person's ticket is free!\n",
      "For each member in your party enter their age: \n",
      "When you have entered every person's age enter 'done'.done\n"
     ]
    }
   ],
   "source": [
    "prompt = \"For each member in your party enter their age: \"\n",
    "prompt += \"\\nWhen you have entered every person's age enter 'done'.\"\n",
    "\n",
    "\n",
    "\n",
    "while True:\n",
    "    age = input(prompt)\n",
    "\n",
    "    if age == \"done\":\n",
    "        break\n",
    "        print(\"\\nYou have entered all age information for your party.\")\n",
    "    elif int(age) < 3:\n",
    "        print(str(\"\\nThat person's ticket is free!\"))\n",
    "    elif int(age) <= 12:\n",
    "        print(str(\"\\nThat person's ticket is $10.00.\"))\n",
    "    else:\n",
    "        print(str(\"\\nThat person's ticket is $15.00.\"))"
   ]
  },
  {
   "cell_type": "code",
   "execution_count": 4,
   "metadata": {},
   "outputs": [
    {
     "name": "stdout",
     "output_type": "stream",
     "text": [
      "For each member in your party enter their age: \n",
      "When you have entered every person's age enter 'done'.45\n",
      "\n",
      "That person's ticket is $15.00.\n",
      "For each member in your party enter their age: \n",
      "When you have entered every person's age enter 'done'.9\n",
      "\n",
      "That person's ticket is $10.00.\n",
      "For each member in your party enter their age: \n",
      "When you have entered every person's age enter 'done'.done\n"
     ]
    }
   ],
   "source": [
    "prompt = \"For each member in your party enter their age: \"\n",
    "prompt += \"\\nWhen you have entered every person's age enter 'done'.\"\n",
    "\n",
    "active = True\n",
    "\n",
    "while active:\n",
    "    age = input(prompt)\n",
    "\n",
    "    if age == \"done\":\n",
    "        break\n",
    "        print(\"\\nYou have entered all age information for your party.\")\n",
    "    elif int(age) < 3:\n",
    "        print(str(\"\\nThat person's ticket is free!\"))\n",
    "    elif int(age) <= 12:\n",
    "        print(str(\"\\nThat person's ticket is $10.00.\"))\n",
    "    else:\n",
    "        print(str(\"\\nThat person's ticket is $15.00.\"))"
   ]
  },
  {
   "cell_type": "code",
   "execution_count": 2,
   "metadata": {},
   "outputs": [
    {
     "name": "stdout",
     "output_type": "stream",
     "text": [
      "For each member in your party enter their age: \n",
      "When you have entered every person's age enter 'done'.74\n",
      "\n",
      "That person's ticket is $15.00.\n",
      "For each member in your party enter their age: \n",
      "When you have entered every person's age enter 'done'.11\n",
      "\n",
      "That person's ticket is $10.00.\n",
      "For each member in your party enter their age: \n",
      "When you have entered every person's age enter 'done'.done\n"
     ]
    },
    {
     "ename": "ValueError",
     "evalue": "invalid literal for int() with base 10: 'done'",
     "output_type": "error",
     "traceback": [
      "\u001b[0;31m---------------------------------------------------------------------------\u001b[0m",
      "\u001b[0;31mValueError\u001b[0m                                Traceback (most recent call last)",
      "\u001b[0;32m<ipython-input-2-61983f95f5bc>\u001b[0m in \u001b[0;36m<module>\u001b[0;34m()\u001b[0m\n\u001b[1;32m      4\u001b[0m \u001b[0;32mwhile\u001b[0m \u001b[0mprompt\u001b[0m \u001b[0;34m!=\u001b[0m \u001b[0;34m\"done\"\u001b[0m\u001b[0;34m:\u001b[0m\u001b[0;34m\u001b[0m\u001b[0m\n\u001b[1;32m      5\u001b[0m     \u001b[0mage\u001b[0m \u001b[0;34m=\u001b[0m \u001b[0minput\u001b[0m\u001b[0;34m(\u001b[0m\u001b[0mprompt\u001b[0m\u001b[0;34m)\u001b[0m\u001b[0;34m\u001b[0m\u001b[0m\n\u001b[0;32m----> 6\u001b[0;31m     \u001b[0;32mif\u001b[0m \u001b[0mint\u001b[0m\u001b[0;34m(\u001b[0m\u001b[0mage\u001b[0m\u001b[0;34m)\u001b[0m \u001b[0;34m<\u001b[0m \u001b[0;36m3\u001b[0m\u001b[0;34m:\u001b[0m\u001b[0;34m\u001b[0m\u001b[0m\n\u001b[0m\u001b[1;32m      7\u001b[0m         \u001b[0mprint\u001b[0m\u001b[0;34m(\u001b[0m\u001b[0mstr\u001b[0m\u001b[0;34m(\u001b[0m\u001b[0;34m\"\\nThat person's ticket is free!\"\u001b[0m\u001b[0;34m)\u001b[0m\u001b[0;34m)\u001b[0m\u001b[0;34m\u001b[0m\u001b[0m\n\u001b[1;32m      8\u001b[0m     \u001b[0;32melif\u001b[0m \u001b[0mint\u001b[0m\u001b[0;34m(\u001b[0m\u001b[0mage\u001b[0m\u001b[0;34m)\u001b[0m \u001b[0;34m<=\u001b[0m \u001b[0;36m12\u001b[0m\u001b[0;34m:\u001b[0m\u001b[0;34m\u001b[0m\u001b[0m\n",
      "\u001b[0;31mValueError\u001b[0m: invalid literal for int() with base 10: 'done'"
     ]
    }
   ],
   "source": [
    "prompt = \"For each member in your party enter their age: \"\n",
    "prompt += \"\\nWhen you have entered every person's age enter 'done'.\"\n",
    "\n",
    "while prompt != \"done\":\n",
    "    age = input(prompt)\n",
    "    if int(age) < 3:\n",
    "        print(str(\"\\nThat person's ticket is free!\"))\n",
    "    elif int(age) <= 12:\n",
    "        print(str(\"\\nThat person's ticket is $10.00.\"))\n",
    "    else:\n",
    "        print(str(\"\\nThat person's ticket is $15.00.\"))"
   ]
  },
  {
   "cell_type": "code",
   "execution_count": null,
   "metadata": {},
   "outputs": [],
   "source": []
  }
 ],
 "metadata": {
  "kernelspec": {
   "display_name": "Python 3",
   "language": "python",
   "name": "python3"
  },
  "language_info": {
   "codemirror_mode": {
    "name": "ipython",
    "version": 3
   },
   "file_extension": ".py",
   "mimetype": "text/x-python",
   "name": "python",
   "nbconvert_exporter": "python",
   "pygments_lexer": "ipython3",
   "version": "3.6.5"
  }
 },
 "nbformat": 4,
 "nbformat_minor": 2
}
