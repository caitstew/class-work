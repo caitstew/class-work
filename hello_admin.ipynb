{
 "cells": [
  {
   "cell_type": "markdown",
   "metadata": {},
   "source": [
    "# 5-8: Hello Admin"
   ]
  },
  {
   "cell_type": "code",
   "execution_count": 9,
   "metadata": {},
   "outputs": [
    {
     "name": "stdout",
     "output_type": "stream",
     "text": [
      "Hello admin, would you like to see a status report?\n",
      "Hello Jerry, thank you for logging in again!\n",
      "Hello Barb, thank you for logging in again!\n",
      "Hello Kenny, thank you for logging in again!\n",
      "Hello Sally, thank you for logging in again!\n"
     ]
    }
   ],
   "source": [
    "users = [\"admin\", \"jerry\", \"barb\", \"kenny\", \"sally\"]\n",
    "\n",
    "for user in users:\n",
    "    if user == \"admin\":\n",
    "        print(\"Hello \" + user + \", would you like to see a status report?\")\n",
    "    else:\n",
    "        print(\"Hello \" + user.title() + \", thank you for logging in again!\")\n"
   ]
  },
  {
   "cell_type": "markdown",
   "metadata": {},
   "source": [
    "# 5-9: No Users\n"
   ]
  },
  {
   "cell_type": "code",
   "execution_count": 1,
   "metadata": {},
   "outputs": [
    {
     "name": "stdout",
     "output_type": "stream",
     "text": [
      "We need to find some users!\n"
     ]
    }
   ],
   "source": [
    "users = []\n",
    "\n",
    "if users:\n",
    "    for user in users:\n",
    "        if user == \"admin\":\n",
    "            print(\"Hello \" + user + \", would you like to see a status report?\")\n",
    "        else:\n",
    "            print(\"Hello \" + user.title() + \", thank you for logging in again!\")\n",
    "else:\n",
    "    print(\"We need to find some users!\")\n"
   ]
  },
  {
   "cell_type": "code",
   "execution_count": null,
   "metadata": {},
   "outputs": [],
   "source": []
  }
 ],
 "metadata": {
  "kernelspec": {
   "display_name": "Python 3",
   "language": "python",
   "name": "python3"
  },
  "language_info": {
   "codemirror_mode": {
    "name": "ipython",
    "version": 3
   },
   "file_extension": ".py",
   "mimetype": "text/x-python",
   "name": "python",
   "nbconvert_exporter": "python",
   "pygments_lexer": "ipython3",
   "version": "3.6.5"
  }
 },
 "nbformat": 4,
 "nbformat_minor": 2
}
