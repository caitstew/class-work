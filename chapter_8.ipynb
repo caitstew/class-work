{
 "cells": [
  {
   "cell_type": "markdown",
   "metadata": {},
   "source": [
    "# 8-1: Message"
   ]
  },
  {
   "cell_type": "code",
   "execution_count": 2,
   "metadata": {},
   "outputs": [
    {
     "name": "stdout",
     "output_type": "stream",
     "text": [
      "I have learned functions in this chapter.\n"
     ]
    }
   ],
   "source": [
    "def display_message(learn):\n",
    "    \"\"\"Show what I've learned in this chapter\"\"\"\n",
    "    print(\"I have learned \" + learn + \" in this chapter.\")\n",
    "    \n",
    "display_message(\"functions\")"
   ]
  },
  {
   "cell_type": "markdown",
   "metadata": {},
   "source": [
    "# 8-2: Favorite Book"
   ]
  },
  {
   "cell_type": "code",
   "execution_count": 3,
   "metadata": {},
   "outputs": [
    {
     "name": "stdout",
     "output_type": "stream",
     "text": [
      "One of my favorite books is Pride and Prejudice!\n"
     ]
    }
   ],
   "source": [
    "def favorite_book(title):\n",
    "    \"\"\"Show my favorite books\"\"\"\n",
    "    print(\"One of my favorite books is \" + title + \"!\")\n",
    "    \n",
    "favorite_book(\"Pride and Prejudice\")"
   ]
  },
  {
   "cell_type": "markdown",
   "metadata": {},
   "source": [
    "# 8-3: T-Shirt"
   ]
  },
  {
   "cell_type": "code",
   "execution_count": 8,
   "metadata": {},
   "outputs": [
    {
     "name": "stdout",
     "output_type": "stream",
     "text": [
      "I'd like a shirt that says, Hello World! in a size small.\n"
     ]
    }
   ],
   "source": [
    "def make_shirt(size, text):\n",
    "    print(\"I'd like a shirt that says, \" + text + \" in a size \" + size + \".\")\n",
    "make_shirt(size=\"small\", text=\"Hello World!\")"
   ]
  },
  {
   "cell_type": "markdown",
   "metadata": {},
   "source": [
    "# 8-4: Large Shirts"
   ]
  },
  {
   "cell_type": "code",
   "execution_count": 16,
   "metadata": {},
   "outputs": [
    {
     "name": "stdout",
     "output_type": "stream",
     "text": [
      "I'd like a shirt that says, I love python. in a size medium.\n"
     ]
    }
   ],
   "source": [
    "def make_shirt(text=\"I love python.\", size=\"large\"):\n",
    "    print(\"I'd like a shirt that says, \" + text + \" in a size \" + size + \".\")\n",
    "make_shirt(size=\"medium\")"
   ]
  },
  {
   "cell_type": "markdown",
   "metadata": {},
   "source": [
    "# 8-5: Cities"
   ]
  },
  {
   "cell_type": "code",
   "execution_count": 20,
   "metadata": {},
   "outputs": [
    {
     "name": "stdout",
     "output_type": "stream",
     "text": [
      "Detroit is in America.\n",
      "Seattle is in America.\n",
      "London is in England.\n"
     ]
    }
   ],
   "source": [
    "def describe_city(city, country=\"America\"):\n",
    "    print(city.title() + \" is in \" + country.title() + \".\")\n",
    "describe_city(\"detroit\")\n",
    "describe_city(\"seattle\")\n",
    "describe_city(\"london\", country = \"england\")"
   ]
  },
  {
   "cell_type": "markdown",
   "metadata": {},
   "source": [
    "# 8-6: City Names"
   ]
  },
  {
   "cell_type": "code",
   "execution_count": 22,
   "metadata": {},
   "outputs": [
    {
     "name": "stdout",
     "output_type": "stream",
     "text": [
      "Barcelona, Spain\n",
      "Lima, Peru\n",
      "Edinburgh, Scotland\n"
     ]
    }
   ],
   "source": [
    "def city_country(city, country):\n",
    "    print(city.title() + \", \" + country.title())\n",
    "city_country(\"barcelona\", \"spain\")\n",
    "city_country(\"lima\", \"peru\")\n",
    "city_country(\"edinburgh\", \"scotland\")"
   ]
  },
  {
   "cell_type": "markdown",
   "metadata": {},
   "source": [
    "# 8-7: Album"
   ]
  },
  {
   "cell_type": "code",
   "execution_count": 8,
   "metadata": {},
   "outputs": [
    {
     "name": "stdout",
     "output_type": "stream",
     "text": [
      "{'name': 'taylor swift', 'title': 'red', 'tracks': 9}\n",
      "{'name': 'ed sheeran', 'title': 'x'}\n",
      "{'name': 'colbie caillat', 'title': 'breakthrough', 'tracks': 20}\n"
     ]
    }
   ],
   "source": [
    "def make_album(artist_name, album_title, tracks=\"\"):\n",
    "    \n",
    "    dictionary = {\"name\": artist_name, \"title\" : album_title}\n",
    "    if tracks:\n",
    "        dictionary[\"tracks\"] = tracks\n",
    "    \n",
    "    return dictionary\n",
    "    \n",
    "musician1 = make_album(\"taylor swift\", \"red\", 9)\n",
    "musician2 = make_album(\"ed sheeran\", \"x\")\n",
    "musician3 = make_album(\"colbie caillat\", \"breakthrough\", 20)\n",
    "print(musician1)\n",
    "print(musician2)\n",
    "print(musician3)"
   ]
  },
  {
   "cell_type": "markdown",
   "metadata": {},
   "source": [
    "# 8-8: User Albums"
   ]
  },
  {
   "cell_type": "code",
   "execution_count": null,
   "metadata": {},
   "outputs": [
    {
     "name": "stdout",
     "output_type": "stream",
     "text": [
      "\n",
      "Tell me about your favorite artist: \n",
      "(enter 'quit' to quit at any time)\n",
      "Artist Name: ed sheeran\n",
      "Album Title: x\n",
      "\n",
      "Your favorite album is X by Ed Sheeran\n",
      "\n",
      "Tell me about your favorite artist: \n",
      "(enter 'quit' to quit at any time)\n"
     ]
    }
   ],
   "source": [
    "def make_album(artist_name, album_title):\n",
    "    album = album_title.title() + \" by \" + artist_name.title()\n",
    "    return album\n",
    "   \n",
    "while True:\n",
    "    print(\"\\nTell me about your favorite artist: \")\n",
    "    print(\"(enter 'quit' to quit at any time)\")\n",
    "    \n",
    "    artist_name = input(\"Artist Name: \")\n",
    "    if artist_name == \"quit\":\n",
    "        break\n",
    "    album_title = input(\"Album Title: \")\n",
    "    if album_title == \"quit\":\n",
    "        break\n",
    "    \n",
    "    artist_info = make_album(artist_name, album_title)\n",
    "    print(\"\\nYour favorite album is \" + artist_info)"
   ]
  },
  {
   "cell_type": "markdown",
   "metadata": {},
   "source": [
    "# 8-9: Magician"
   ]
  },
  {
   "cell_type": "code",
   "execution_count": 3,
   "metadata": {},
   "outputs": [
    {
     "name": "stdout",
     "output_type": "stream",
     "text": [
      "Hello, Fred!\n",
      "Hello, Claire!\n",
      "Hello, Marie!\n",
      "Hello, Pablo!\n"
     ]
    }
   ],
   "source": [
    "def show_magicians(names):\n",
    "    for name in names:\n",
    "        message = \"Hello, \" + name.title() + \"!\"\n",
    "        print(message)\n",
    "        \n",
    "magicians = [\"fred\", \"claire\", \"marie\", \"pablo\"]\n",
    "show_magicians(magicians)"
   ]
  },
  {
   "cell_type": "markdown",
   "metadata": {},
   "source": [
    "# 8-10: Great Magicians"
   ]
  },
  {
   "cell_type": "code",
   "execution_count": 19,
   "metadata": {},
   "outputs": [
    {
     "name": "stdout",
     "output_type": "stream",
     "text": [
      "['fred', 'claire', 'marie', 'pablo']\n",
      "\n",
      "You are now, The Great Pablo!\n",
      "\n",
      "You are now, The Great Marie!\n",
      "\n",
      "You are now, The Great Claire!\n",
      "\n",
      "You are now, The Great Fred!\n",
      "\n",
      "Now there are no more magicians: \n",
      "\n",
      "[]\n",
      "\n",
      "but there are great magicians: \n",
      "\n",
      "['The Great Pablo', 'The Great Marie', 'The Great Claire', 'The Great Fred']\n"
     ]
    }
   ],
   "source": [
    "def show_magicians(names):\n",
    "    for name in names:\n",
    "        message = \"Hello, \" + name.title() + \"!\"\n",
    "        print(message)\n",
    "        \n",
    "magicians = [\"fred\", \"claire\", \"marie\", \"pablo\"]\n",
    "great_magicians = []\n",
    "\n",
    "print(magicians)\n",
    "\n",
    "def make_great(great_magicians):\n",
    "    while magicians: \n",
    "        current_magician = \"The Great \" + magicians.pop()\n",
    "        great_magicians.append(current_magician.title())\n",
    "    for great_magician in great_magicians:\n",
    "        message = \"\\nYou are now, \" + great_magician.title() + \"!\"\n",
    "        print(message)\n",
    "\n",
    "make_great(great_magicians)\n",
    "show_magicians(magicians)\n",
    "print(\"\\nNow there are no more magicians: \\n\")\n",
    "print(magicians)\n",
    "print(\"\\nbut there are great magicians: \\n\")\n",
    "print(great_magicians)"
   ]
  },
  {
   "cell_type": "markdown",
   "metadata": {},
   "source": [
    "# 8-11: Unchanged Magicians"
   ]
  },
  {
   "cell_type": "code",
   "execution_count": 27,
   "metadata": {},
   "outputs": [
    {
     "name": "stdout",
     "output_type": "stream",
     "text": [
      "\n",
      "You are now, The Great Pablo!\n",
      "\n",
      "You are now, The Great Marie!\n",
      "\n",
      "You are now, The Great Claire!\n",
      "\n",
      "You are now, The Great Fred!\n",
      "\n",
      "Hello, Fred!\n",
      "\n",
      "Hello, Claire!\n",
      "\n",
      "Hello, Marie!\n",
      "\n",
      "Hello, Pablo!\n",
      "\n",
      "Hello, The Great Pablo!\n",
      "\n",
      "Hello, The Great Marie!\n",
      "\n",
      "Hello, The Great Claire!\n",
      "\n",
      "Hello, The Great Fred!\n"
     ]
    }
   ],
   "source": [
    "def show_magicians(names):\n",
    "    for name in names:\n",
    "        message = \"\\nHello, \" + name.title() + \"!\"\n",
    "        print(message)\n",
    "        \n",
    "magicians = [\"fred\", \"claire\", \"marie\", \"pablo\"]\n",
    "great_magicians = []\n",
    "\n",
    "def make_great(magicians):\n",
    "    while magicians: \n",
    "        current_magician = \"The Great \" + magicians.pop()\n",
    "        great_magicians.append(current_magician.title())\n",
    "    for great_magician in great_magicians:\n",
    "        message = \"\\nYou are now, \" + great_magician.title() + \"!\"\n",
    "        print(message)\n",
    "\n",
    "make_great(magicians[:])\n",
    "show_magicians(magicians)\n",
    "show_magicians(great_magicians)"
   ]
  },
  {
   "cell_type": "markdown",
   "metadata": {},
   "source": [
    "# 8-12: Sandwiches"
   ]
  },
  {
   "cell_type": "code",
   "execution_count": 5,
   "metadata": {},
   "outputs": [
    {
     "name": "stdout",
     "output_type": "stream",
     "text": [
      "\n",
      "Enter the toppings you would like on your sandwich.\n",
      "(enter 'done' when you have listed all the toppings you would like)\n",
      "\n",
      "Toppings: butter\n",
      "Adding butter to your order!\n",
      "\n",
      "Enter the toppings you would like on your sandwich.\n",
      "(enter 'done' when you have listed all the toppings you would like)\n",
      "\n",
      "Toppings: done\n",
      "\n",
      "Your sandwich will have: \n",
      "\n",
      "- butter\n"
     ]
    }
   ],
   "source": [
    "sandwich_order = []\n",
    "def sandwich(*toppings):  \n",
    "    while True:\n",
    "        print(\"\\nEnter the toppings you would like on your sandwich.\")\n",
    "        print(\"(enter 'done' when you have listed all the toppings you would like)\")\n",
    "        current_topping = input(\"\\nToppings: \")\n",
    "        if current_topping == \"done\":\n",
    "            print(\"\\nYour sandwich will have: \")\n",
    "            for topping in sandwich_order:\n",
    "                  print(\"\\n- \" + topping)\n",
    "            break\n",
    "        else: \n",
    "            print(\"Adding \" + current_topping + \" to your order!\")\n",
    "            sandwich_order.append(current_topping) \n",
    "\n",
    "sandwich(sandwich_order)"
   ]
  },
  {
   "cell_type": "markdown",
   "metadata": {},
   "source": [
    "# 8-13: User Profile"
   ]
  },
  {
   "cell_type": "code",
   "execution_count": 6,
   "metadata": {
    "scrolled": true
   },
   "outputs": [
    {
     "name": "stdout",
     "output_type": "stream",
     "text": [
      "{'first_name': 'Caitlin', 'last_name': 'Stewart', 'age': '22', 'location': 'Seattle', 'hair': 'curly'}\n"
     ]
    }
   ],
   "source": [
    "def build_profile(first, last, **user_info):\n",
    "    profile = {}\n",
    "    profile['first_name'] = first\n",
    "    profile['last_name'] = last\n",
    "    for key, value in user_info.items():\n",
    "        profile[key] = value\n",
    "    return profile\n",
    "\n",
    "user_profile = build_profile(\"Caitlin\", \"Stewart\", age = \"22\", \n",
    "                             location = \"Seattle\", hair = \"curly\")\n",
    "print(user_profile)"
   ]
  },
  {
   "cell_type": "markdown",
   "metadata": {},
   "source": [
    "# 8-14: Cars"
   ]
  },
  {
   "cell_type": "code",
   "execution_count": 13,
   "metadata": {},
   "outputs": [
    {
     "name": "stdout",
     "output_type": "stream",
     "text": [
      "{'manufacturer': 'Saturn', 'model': 'Ion 2017', 'color': 'red', 'license': 'BSU4992'}\n"
     ]
    }
   ],
   "source": [
    "def build_profile(manufacturer, model, **car_info):\n",
    "    profile = {}\n",
    "    profile['manufacturer'] = manufacturer\n",
    "    profile['model'] = model\n",
    "    for key, value in car_info.items():\n",
    "        profile[key] = value\n",
    "    return profile\n",
    "car_profile = build_profile(\"Saturn\", \"Ion 2017\", color = \"red\", license = \"BSU4992\")\n",
    "print(car_profile)"
   ]
  },
  {
   "cell_type": "markdown",
   "metadata": {},
   "source": [
    "# 8-15: Printing Models\n",
    "In separate file"
   ]
  },
  {
   "cell_type": "markdown",
   "metadata": {},
   "source": [
    "# 8-16: Imports\n",
    "Done in imports_city"
   ]
  },
  {
   "cell_type": "code",
   "execution_count": null,
   "metadata": {},
   "outputs": [],
   "source": []
  }
 ],
 "metadata": {
  "kernelspec": {
   "display_name": "Python 3",
   "language": "python",
   "name": "python3"
  },
  "language_info": {
   "codemirror_mode": {
    "name": "ipython",
    "version": 3
   },
   "file_extension": ".py",
   "mimetype": "text/x-python",
   "name": "python",
   "nbconvert_exporter": "python",
   "pygments_lexer": "ipython3",
   "version": "3.6.5"
  }
 },
 "nbformat": 4,
 "nbformat_minor": 2
}
