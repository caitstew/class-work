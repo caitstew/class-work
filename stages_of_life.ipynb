{
 "cells": [
  {
   "cell_type": "markdown",
   "metadata": {},
   "source": [
    "# 5-6: Stages of Life"
   ]
  },
  {
   "cell_type": "code",
   "execution_count": 4,
   "metadata": {},
   "outputs": [
    {
     "name": "stdout",
     "output_type": "stream",
     "text": [
      "You are a teenager!\n"
     ]
    }
   ],
   "source": [
    "age = 19\n",
    "if age < 2:\n",
    "    print(\"You are a baby!\")\n",
    "if age >= 2 and  age < 4:\n",
    "    print(\"You are a toddler!\")\n",
    "if age >= 4 and age < 13:\n",
    "    print(\"You are a kid!\")\n",
    "if age >= 13 and age < 20:\n",
    "    print(\"You are a teenager!\")\n",
    "if age >= 20 and age < 65:\n",
    "    print(\"You are an adult!\")\n",
    "if age >= 65:\n",
    "    print(\"You are an elder!\")"
   ]
  },
  {
   "cell_type": "code",
   "execution_count": null,
   "metadata": {},
   "outputs": [],
   "source": []
  }
 ],
 "metadata": {
  "kernelspec": {
   "display_name": "Python 3",
   "language": "python",
   "name": "python3"
  },
  "language_info": {
   "codemirror_mode": {
    "name": "ipython",
    "version": 3
   },
   "file_extension": ".py",
   "mimetype": "text/x-python",
   "name": "python",
   "nbconvert_exporter": "python",
   "pygments_lexer": "ipython3",
   "version": "3.6.5"
  }
 },
 "nbformat": 4,
 "nbformat_minor": 2
}
