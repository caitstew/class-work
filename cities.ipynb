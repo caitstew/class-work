{
 "cells": [
  {
   "cell_type": "markdown",
   "metadata": {},
   "source": [
    "# 6-11: Cities"
   ]
  },
  {
   "cell_type": "code",
   "execution_count": 8,
   "metadata": {},
   "outputs": [
    {
     "name": "stdout",
     "output_type": "stream",
     "text": [
      "\n",
      "I love Paris!\n",
      "\n",
      "I know the following information about Paris:\n",
      "\tPopulation: 2.2 million\n",
      "\tCountry: paris\n",
      "\tFact: It has the Eiffel Tower.\n",
      "\n",
      "I love London!\n",
      "\n",
      "I know the following information about London:\n",
      "\tPopulation: 8.1 million\n",
      "\tCountry: paris\n",
      "\tFact: It has Buckingham Palace.\n",
      "\n",
      "I love Barcelona!\n",
      "\n",
      "I know the following information about Barcelona:\n",
      "\tPopulation: 1.6 million\n",
      "\tCountry: paris\n",
      "\tFact: It has Barcelona Cathedral.\n"
     ]
    }
   ],
   "source": [
    "cities = {\"paris\" : { \"population\" : \"2.2 million\", \"country\" : \"france\", \"fact\" : \"It has the Eiffel Tower.\"},\n",
    "        \"london\" : {\"population\" : \"8.1 million\", \"country\" : \"england\", \"fact\" : \"It has Buckingham Palace.\"},\n",
    "         \"barcelona\" : {\"population\" : \"1.6 million\", \"country\" : \"spain\", \"fact\" : \"It has Barcelona Cathedral.\"}\n",
    "         }\n",
    "for city_name, city_info in cities.items():\n",
    "    print(\"\\nI love \" + city_name.title() + \"!\")\n",
    "    print(\"\\nI know the following information about \" + city_name.title() + \":\")\n",
    "    \n",
    "    population = city_info[\"population\"]\n",
    "    country = city_info[\"country\"]\n",
    "    fact = city_info[\"fact\"]\n",
    "    \n",
    "    print(\"\\tPopulation: \" + population)\n",
    "    print(\"\\tCountry: \" + city)\n",
    "    print(\"\\tFact: \" + fact)\n",
    "    \n",
    "\n"
   ]
  },
  {
   "cell_type": "code",
   "execution_count": null,
   "metadata": {},
   "outputs": [],
   "source": []
  }
 ],
 "metadata": {
  "kernelspec": {
   "display_name": "Python 3",
   "language": "python",
   "name": "python3"
  },
  "language_info": {
   "codemirror_mode": {
    "name": "ipython",
    "version": 3
   },
   "file_extension": ".py",
   "mimetype": "text/x-python",
   "name": "python",
   "nbconvert_exporter": "python",
   "pygments_lexer": "ipython3",
   "version": "3.6.5"
  }
 },
 "nbformat": 4,
 "nbformat_minor": 2
}
