{
 "cells": [
  {
   "cell_type": "markdown",
   "metadata": {},
   "source": [
    "# 5-3: Molecular Motion"
   ]
  },
  {
   "cell_type": "code",
   "execution_count": null,
   "metadata": {},
   "outputs": [
    {
     "data": {
      "text/plain": [
       "<Figure size 1280x768 with 1 Axes>"
      ]
     },
     "metadata": {},
     "output_type": "display_data"
    }
   ],
   "source": [
    "import matplotlib.pyplot as plt\n",
    "\n",
    "import warnings\n",
    "import matplotlib.cbook\n",
    "warnings.filterwarnings(\"ignore\",category=matplotlib.cbook.mplDeprecation)\n",
    "\n",
    "from IPython.core.interactiveshell import InteractiveShell\n",
    "InteractiveShell.ast_node_interactivity = \"all\"\n",
    "\n",
    "from random import choice\n",
    "\n",
    "class RandomWalk:\n",
    "\n",
    "    def __init__(self, num_points=5000):\n",
    "        self.num_points = num_points\n",
    "        self.x_values = [0]\n",
    "        self.y_values = [0]\n",
    "    \n",
    "    def fill_walk(self):\n",
    "        while len(self.x_values) < self.num_points:\n",
    "            \n",
    "            x_direction = choice([1, -1])\n",
    "            x_distance = choice([0, 1, 2, 3, 4, 5, 6, 7, 8])\n",
    "            x_step = x_direction * x_distance\n",
    "            \n",
    "            \n",
    "            y_direction = choice([1, -1])\n",
    "            y_distance = choice([0, 1, 2, 3, 4, 5, 6, 7, 8])\n",
    "            y_step = y_direction * y_distance\n",
    "\n",
    "            if x_step != 0 or y_step != 0:\n",
    "                continue\n",
    "\n",
    "            next_x = self.x_values[-1] + x_step\n",
    "            next_y = self.y_values[-1] + y_step\n",
    "\n",
    "            self.x_values.append(next_x)\n",
    "            self.y_values.append(next_y)\n",
    "\n",
    "\n",
    "while True:\n",
    "    rw = RandomWalk(500)\n",
    "    rw.fill_walk()\n",
    "\n",
    "    plt.figure(dpi=128, figsize=(10, 6))\n",
    "\n",
    "    point_numbers = list(range(rw.num_points))\n",
    "    \n",
    "    plt.plot(rw.x_values, rw.y_values, linewidth=1)\n",
    "\n",
    "    end_x = rw.x_values[-1]\n",
    "    end_y = rw.y_values[-1]\n",
    "\n",
    "    #plt.scatter(0, 0, c='green', edgecolors='none', s=75)\n",
    "    #plt.scatter(end_x, end_y, c='red', edgecolors='none',\n",
    "                #s=75)\n",
    "\n",
    "    plt.axes().get_xaxis().set_visible(False)\n",
    "    plt.axes().get_yaxis().set_visible(False)\n",
    "    plt.show()\n",
    "\n",
    "    keep_running = input(\"Take another walk? (yes/no): \")\n",
    "    if keep_running == 'no':\n",
    "        break"
   ]
  },
  {
   "cell_type": "code",
   "execution_count": null,
   "metadata": {},
   "outputs": [],
   "source": []
  }
 ],
 "metadata": {
  "kernelspec": {
   "display_name": "Python 3",
   "language": "python",
   "name": "python3"
  },
  "language_info": {
   "codemirror_mode": {
    "name": "ipython",
    "version": 3
   },
   "file_extension": ".py",
   "mimetype": "text/x-python",
   "name": "python",
   "nbconvert_exporter": "python",
   "pygments_lexer": "ipython3",
   "version": "3.6.5"
  }
 },
 "nbformat": 4,
 "nbformat_minor": 2
}
